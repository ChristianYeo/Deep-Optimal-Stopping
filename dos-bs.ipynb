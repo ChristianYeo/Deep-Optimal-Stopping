{
 "cells": [
  {
   "cell_type": "code",
   "execution_count": 2,
   "metadata": {
    "_cell_guid": "b1076dfc-b9ad-4769-8c92-a6c4dae69d19",
    "_uuid": "8f2839f25d086af736a60e9eeb907d3b93b6e0e5",
    "tags": []
   },
   "outputs": [],
   "source": [
    "import numpy as np\n",
    "import pandas as pd\n",
    "import matplotlib.pyplot as plt\n",
    "import torch\n",
    "import torch.nn as nn\n",
    "from math import ceil, sqrt\n",
    "import copy"
   ]
  },
  {
   "cell_type": "code",
   "execution_count": 3,
   "metadata": {
    "tags": []
   },
   "outputs": [],
   "source": [
    "class MultiDimensionalBS:\n",
    "    def __init__(self, initial_prices, interest_rate, dividends, volatilities, correlation_matrix):\n",
    "        self.initial_prices = initial_prices\n",
    "        self.interest_rate = interest_rate\n",
    "        self.dividends = dividends\n",
    "        self.volatilities = volatilities\n",
    "        self.correlation_matrix = correlation_matrix\n",
    "        self.dimension = len(initial_prices)\n",
    "        self.var_cov = np.linalg.cholesky(np.matmul(np.diag(self.volatilities), np.matmul(self.correlation_matrix, np.diag(self.volatilities))))\n",
    "    \n",
    "    def Simulate(self, expiry, nb_time_discr, number_paths):\n",
    "        diffusion_list = np.linspace(0, expiry, nb_time_discr + 1)\n",
    "        last_index = len(diffusion_list) - 1\n",
    "        delta_time = expiry / last_index\n",
    "        dW = np.sqrt(delta_time) * np.random.randn(number_paths, last_index, self.dimension)\n",
    "        dW = np.append(np.zeros((number_paths, 1, self.dimension)), dW, axis=1)\n",
    "        cst = self.interest_rate - self.dividends - 0.5 * (self.volatilities ** 2)\n",
    "        W = np.cumsum(np.matmul(dW, self.var_cov), axis = 1)\n",
    "        S = self.initial_prices * np.exp(cst * diffusion_list[np.newaxis, :, np.newaxis] + W)\n",
    "                    \n",
    "        return S\n",
    "    \n",
    "    def Simulate_Next_State(self, current_price, current_time, diffusion_times, nb_paths):\n",
    "        delta_time = diffusion_times[0] - current_time\n",
    "        dW = np.sqrt(delta_time) * np.random.randn(nb_paths, len(diffusion_times), self.dimension)\n",
    "        cst = self.interest_rate - self.dividends - 0.5 * (self.volatilities ** 2)\n",
    "        W = np.cumsum(np.matmul(dW, self.var_cov), axis = 1)\n",
    "        S = current_price[:, np.newaxis, np.newaxis, :] * np.exp(cst * (diffusion_times[np.newaxis, :, np.newaxis] - current_time) + W)\n",
    "                    \n",
    "        return S"
   ]
  },
  {
   "cell_type": "code",
   "execution_count": 4,
   "metadata": {
    "tags": []
   },
   "outputs": [],
   "source": [
    "class Payoff:\n",
    "    def __init__(self, strike, option_type):\n",
    "        self.strike = strike\n",
    "        self.option_type = option_type\n",
    "        \n",
    "    def value(self, asset_prices, interest_rate, dates, k=0):\n",
    "        if (self.option_type == 0):\n",
    "            return np.exp(-interest_rate * dates[np.newaxis, k:]) * np.maximum(asset_prices.max(axis = 2) - self.strike, 0)\n",
    "        \n",
    "        elif (self.option_type == 1):\n",
    "            return np.exp(-interest_rate * dates[np.newaxis, k:]) * np.maximum(self.strike - asset_prices.min(axis = 2), 0)\n",
    "        \n",
    "        elif (self.option_type == 2):\n",
    "            d = len(asset_prices[0][0])\n",
    "            np.exp(-interest_rate * dates[np.newaxis, k:]) * np.maximum(asset_prices.prod(axis = 2)**(1/d) - self.strike, 0)"
   ]
  },
  {
   "cell_type": "code",
   "execution_count": 5,
   "metadata": {
    "tags": []
   },
   "outputs": [],
   "source": [
    "##### BS parameters\n",
    "\n",
    "nb_assets = 5\n",
    "interest_rate = 0.05\n",
    "expiry = 3\n",
    "nb_ex_dates = 9\n",
    "strike = 100\n",
    "my_payoff = Payoff(strike, 0)\n",
    "\n",
    "initial_prices = np.full(nb_assets, 100)\n",
    "dividends = np.full(nb_assets, 0.1)\n",
    "volatilities = np.full(nb_assets, 0.2)\n",
    "diffusion_times = np.linspace(0, expiry, nb_ex_dates + 1)\n",
    "correlation_matrix = np.eye(nb_assets)"
   ]
  },
  {
   "cell_type": "markdown",
   "metadata": {},
   "source": [
    "# # Train Neural Net"
   ]
  },
  {
   "cell_type": "code",
   "execution_count": 6,
   "metadata": {},
   "outputs": [],
   "source": [
    "# NN parameters\n",
    "nb_epochs = 3000\n",
    "batch_size = 8192\n",
    "inputs_size = batch_size * 1\n",
    "q1 = q2 = 40 + nb_assets\n",
    "learning_rate = 0.001"
   ]
  },
  {
   "cell_type": "code",
   "execution_count": 7,
   "metadata": {
    "tags": []
   },
   "outputs": [
    {
     "name": "stdout",
     "output_type": "stream",
     "text": [
      "cuda:0\n"
     ]
    }
   ],
   "source": [
    "device = torch.device(\"cuda:0\" if torch.cuda.is_available() else \"cpu\")\n",
    "print(device)"
   ]
  },
  {
   "cell_type": "code",
   "execution_count": 8,
   "metadata": {},
   "outputs": [],
   "source": [
    "nn_base = nn.Sequential(nn.Linear(nb_assets + 1, q1), nn.BatchNorm1d(q1), nn.ReLU(), nn.Linear(q1, q2), \n",
    "                                        nn.BatchNorm1d(q2), nn.ReLU(), torch.nn.Linear(q2, 1), torch.nn.Sigmoid())"
   ]
  },
  {
   "cell_type": "code",
   "execution_count": 11,
   "metadata": {
    "tags": []
   },
   "outputs": [],
   "source": [
    "def model_train(nb_epochs, inputs_size, batch_size, learning_rate, N, re_use_nn_params = False):\n",
    "\n",
    "    #################################################################################################################\n",
    "    ####################################################                  MODELS INIT\n",
    "    \n",
    "    nb_batches = ceil(inputs_size / batch_size)\n",
    "    f = [copy.deepcopy(nn_base).to(device) for i in range(N - 1)]\n",
    "    optimizers = [torch.optim.Adam(f[i].parameters(), lr = learning_rate) for i in range(N - 1)]\n",
    "    BS = MultiDimensionalBS(initial_prices, interest_rate, dividends, volatilities, correlation_matrix)\n",
    "    losses = np.array([[0.0] * (N - 1)] * int(nb_epochs / 50))\n",
    "    comp = 0\n",
    "    \n",
    "    #################################################################################################################\n",
    "    ####################################################                  TRAINING\n",
    "\n",
    "    for epoch in range(nb_epochs):\n",
    "        S_train = BS.Simulate(expiry, N, inputs_size)\n",
    "        x = torch.from_numpy(S_train).float()\n",
    "        y = torch.unsqueeze(torch.from_numpy(my_payoff.value(S_train, interest_rate, diffusion_times)), dim=2).float()\n",
    "        payoff_tau = [y[i * batch_size : min((i + 1) * batch_size, inputs_size) , N].to(device) for i in range(nb_batches)]\n",
    "        this_epoch_loss = [0.0] * (N - 1)\n",
    "\n",
    "        # bakward induction\n",
    "        \n",
    "        for n in range(N - 1, 0, -1):\n",
    "            inputs = torch.cat((x[:,n], y[:,n]), 1)\n",
    "            payoffs = [y[i * batch_size : min((i + 1) * batch_size, inputs_size) , n] for i in range(nb_batches)]\n",
    "            \n",
    "            if n < N - 2 and re_use_nn_params:\n",
    "                f[n].parameters = f[n + 1].parameters\n",
    "            \n",
    "            for batch in range(nb_batches):\n",
    "                this_batch_inputs = inputs[batch * batch_size : min((batch + 1) * batch_size, inputs_size), :].to(device)\n",
    "                optimizers[n - 1].zero_grad()\n",
    "                F_n = f[n - 1](this_batch_inputs)\n",
    "                f_n = (F_n >= 0.5).detach().float()\n",
    "                payoffs_batch = y[batch * batch_size : min((batch + 1) * batch_size, inputs_size) , n].to(device)\n",
    "                payoff_tau[batch] = payoffs_batch * f_n + payoff_tau[batch] * (1 - f_n)\n",
    "                z = torch.mean(torch.mul(torch.subtract(payoff_tau[batch], payoffs_batch), F_n))\n",
    "                this_epoch_loss[n - 1] = z.item()\n",
    "                z.backward()\n",
    "                optimizers[n - 1].step()\n",
    "                \n",
    "        if(epoch % 50 == 0):\n",
    "            losses[comp] = this_epoch_loss \n",
    "            print('epoch {}, losses : {}'.format(epoch, losses[comp]))\n",
    "            print('\\n')\n",
    "            comp += 1\n",
    "                \n",
    "    return f, losses"
   ]
  },
  {
   "cell_type": "code",
   "execution_count": 12,
   "metadata": {
    "_kg_hide-output": true,
    "tags": []
   },
   "outputs": [
    {
     "name": "stdout",
     "output_type": "stream",
     "text": [
      "epoch 0, losses : [1.2039094  0.81609917 0.53678793 0.33152485 0.16402    0.10767576\n",
      " 0.08065405 0.00475492]\n",
      "\n",
      "\n",
      "epoch 50, losses : [2.22419047 1.58911753 1.19058192 0.84727108 0.63702142 0.39221081\n",
      " 0.28329051 0.10990529]\n",
      "\n",
      "\n",
      "epoch 100, losses : [1.04205453 0.65537596 0.45956317 0.30332065 0.18965191 0.12063567\n",
      " 0.11419243 0.05849584]\n",
      "\n",
      "\n",
      "epoch 150, losses : [ 0.41725534  0.29175764  0.18091866  0.06432973  0.00609679 -0.0257486\n",
      "  0.01016013 -0.03635094]\n",
      "\n",
      "\n",
      "epoch 200, losses : [0.22505192 0.17786761 0.15342686 0.07498824 0.04245114 0.02068957\n",
      " 0.01973377 0.00078806]\n",
      "\n",
      "\n",
      "epoch 250, losses : [ 0.13614029  0.09055069  0.04677907  0.00610409  0.03471658 -0.01930446\n",
      "  0.01372305  0.00067412]\n",
      "\n",
      "\n",
      "epoch 300, losses : [ 0.09457548  0.05538251  0.02004209  0.00983888  0.01709586  0.01689601\n",
      " -0.03546107  0.02479185]\n",
      "\n",
      "\n",
      "epoch 350, losses : [0.07021128 0.04532022 0.03554435 0.02163089 0.00313959 0.02711035\n",
      " 0.02499268 0.0219103 ]\n",
      "\n",
      "\n",
      "epoch 400, losses : [ 0.05210139  0.03744102  0.00965733  0.03722339  0.03124071 -0.00444477\n",
      " -0.00779085  0.00172279]\n",
      "\n",
      "\n",
      "epoch 450, losses : [ 0.04015332  0.01276009 -0.01543926  0.03126419 -0.00390988 -0.02077715\n",
      " -0.00862019 -0.01475089]\n",
      "\n",
      "\n",
      "epoch 500, losses : [ 0.03246768  0.00451552  0.0232345   0.0078912   0.00630256  0.02281363\n",
      "  0.01791076 -0.00077988]\n",
      "\n",
      "\n",
      "epoch 550, losses : [ 0.02679766  0.02057544  0.01962848  0.02574665 -0.00170135 -0.0099163\n",
      "  0.02735356 -0.00448032]\n",
      "\n",
      "\n",
      "epoch 600, losses : [ 0.02297143  0.02039031  0.01020842 -0.00200615  0.00375572  0.01788827\n",
      "  0.02229122 -0.00367206]\n",
      "\n",
      "\n",
      "epoch 650, losses : [ 0.01981288  0.01383879  0.02025659  0.01124737 -0.00147398 -0.00075126\n",
      " -0.0039795   0.00171573]\n",
      "\n",
      "\n",
      "epoch 700, losses : [ 0.01599871  0.01851996  0.00212803  0.01950587 -0.02423977  0.00958353\n",
      " -0.01942877 -0.01144854]\n",
      "\n",
      "\n",
      "epoch 750, losses : [ 0.01412092  0.0127656  -0.01217793  0.01174841 -0.00899228 -0.00298158\n",
      "  0.00483977 -0.00089449]\n",
      "\n",
      "\n",
      "epoch 800, losses : [ 0.01270718  0.00577925 -0.00767411  0.01731694 -0.0094508   0.00440466\n",
      " -0.00208078 -0.00750152]\n",
      "\n",
      "\n",
      "epoch 850, losses : [ 0.0107185   0.00602981 -0.00558606 -0.00347611  0.00259174 -0.00177661\n",
      " -0.00443892  0.00634827]\n",
      "\n",
      "\n",
      "epoch 900, losses : [ 0.00989304  0.02150779 -0.01269107  0.0140007   0.00698768 -0.01249323\n",
      " -0.01724136  0.00223889]\n",
      "\n",
      "\n",
      "epoch 950, losses : [ 0.00900239 -0.00188426  0.01766635  0.00507951 -0.01277968  0.01857348\n",
      "  0.02336668  0.00522921]\n",
      "\n",
      "\n",
      "epoch 1000, losses : [ 0.00811124  0.03840528 -0.00326901  0.01153085 -0.01707102 -0.00277602\n",
      " -0.01195821 -0.01678849]\n",
      "\n",
      "\n",
      "epoch 1050, losses : [ 0.00717912 -0.00527976  0.01161982  0.00615775  0.00908971 -0.00617388\n",
      "  0.01297448  0.00334479]\n",
      "\n",
      "\n",
      "epoch 1100, losses : [ 0.00666372  0.01332723 -0.0110068   0.02733045 -0.00146719 -0.00221148\n",
      " -0.00607336  0.00485475]\n",
      "\n",
      "\n",
      "epoch 1150, losses : [ 0.00597852 -0.00651767  0.00897904  0.01579977 -0.01022653  0.00491719\n",
      "  0.00669893 -0.01469869]\n",
      "\n",
      "\n",
      "epoch 1200, losses : [ 0.00564594 -0.0044698  -0.00579265  0.0103381   0.01638804 -0.0095128\n",
      "  0.0108405  -0.01257535]\n",
      "\n",
      "\n",
      "epoch 1250, losses : [ 0.00511361  0.02511309  0.00379565  0.00126783 -0.0013374   0.00692788\n",
      "  0.00204035 -0.01118034]\n",
      "\n",
      "\n",
      "epoch 1300, losses : [ 0.00470889  0.01032352 -0.01698767  0.02294417 -0.00832723  0.00012483\n",
      "  0.01789415  0.00860365]\n",
      "\n",
      "\n",
      "epoch 1350, losses : [ 0.00420989 -0.00027933  0.00324769 -0.00602519 -0.01361917 -0.00803902\n",
      "  0.00032206 -0.01549086]\n",
      "\n",
      "\n",
      "epoch 1400, losses : [ 0.00386681  0.00213591  0.00766057 -0.01528794 -0.0184439  -0.03915128\n",
      " -0.00751894  0.00385096]\n",
      "\n",
      "\n",
      "epoch 1450, losses : [ 0.00348477  0.00160032 -0.01550054  0.00035189 -0.00707383 -0.0056036\n",
      "  0.00365517 -0.01874727]\n",
      "\n",
      "\n",
      "epoch 1500, losses : [ 0.00338464 -0.00297181  0.00474722  0.00993109  0.02465495 -0.00992138\n",
      " -0.00156689 -0.00144246]\n",
      "\n",
      "\n",
      "epoch 1550, losses : [ 0.00315393  0.00421635 -0.01020533 -0.00676143 -0.01136896 -0.00607686\n",
      " -0.00604461 -0.01352561]\n",
      "\n",
      "\n",
      "epoch 1600, losses : [ 0.00298703  0.01050999 -0.01795805  0.01338137 -0.00390093 -0.00554407\n",
      "  0.01275966  0.00243257]\n",
      "\n",
      "\n",
      "epoch 1650, losses : [ 0.00280356 -0.0057396   0.00342727  0.00385004 -0.02413136  0.00086618\n",
      "  0.00987697 -0.00763384]\n",
      "\n",
      "\n",
      "epoch 1700, losses : [ 0.00253285  0.01051733 -0.0041576  -0.01728279 -0.01181359  0.00916966\n",
      "  0.00077289 -0.00271321]\n",
      "\n",
      "\n",
      "epoch 1750, losses : [ 0.0023128  -0.01690507 -0.00159713 -0.01299357  0.02018401 -0.01680916\n",
      "  0.00118657 -0.00413554]\n",
      "\n",
      "\n",
      "epoch 1800, losses : [ 0.00235668  0.00410908 -0.00308006  0.01019864  0.0141376   0.01307203\n",
      " -0.00188146  0.01458013]\n",
      "\n",
      "\n",
      "epoch 1850, losses : [ 0.00215117 -0.00063394  0.01149179 -0.00263338  0.00389603  0.00659346\n",
      " -0.00535605 -0.01212292]\n",
      "\n",
      "\n",
      "epoch 1900, losses : [ 0.00200148  0.00225746 -0.00103816 -0.01739831 -0.01903561 -0.00431818\n",
      "  0.00153107  0.00881401]\n",
      "\n",
      "\n",
      "epoch 1950, losses : [ 0.00187598 -0.01357655  0.01453502  0.00091949 -0.00406058  0.01003424\n",
      "  0.0041787  -0.00067088]\n",
      "\n",
      "\n",
      "epoch 2000, losses : [ 0.00176008 -0.00118184  0.00659758  0.00272494  0.00608401 -0.01145081\n",
      " -0.01362738 -0.00565849]\n",
      "\n",
      "\n",
      "epoch 2050, losses : [ 0.00170528  0.0044803   0.00199513 -0.00021078 -0.02476123  0.01658225\n",
      "  0.00336557 -0.00825544]\n",
      "\n",
      "\n",
      "epoch 2100, losses : [ 0.00163449  0.00440109 -0.01563889  0.01044852 -0.01121458 -0.01201992\n",
      "  0.0150535  -0.00556443]\n",
      "\n",
      "\n",
      "epoch 2150, losses : [ 0.00152453  0.00422408 -0.0104863   0.00064758  0.00312135 -0.01049676\n",
      "  0.01462695 -0.01339855]\n",
      "\n",
      "\n",
      "epoch 2200, losses : [ 0.00147481  0.0003765   0.00715048 -0.00023008 -0.00838215 -0.01528436\n",
      "  0.00634493 -0.00432083]\n",
      "\n",
      "\n",
      "epoch 2250, losses : [ 0.00136042 -0.0102873   0.00879587 -0.00392457 -0.01039002 -0.00249313\n",
      "  0.00691463  0.0006196 ]\n",
      "\n",
      "\n",
      "epoch 2300, losses : [ 0.00131193 -0.00263812 -0.0032711  -0.02022909 -0.01206255 -0.00402767\n",
      " -0.00768401  0.00342338]\n",
      "\n",
      "\n",
      "epoch 2350, losses : [ 0.00125011  0.0045532   0.01384722  0.00055244  0.00119705 -0.01462029\n",
      " -0.00538687 -0.01430755]\n",
      "\n",
      "\n",
      "epoch 2400, losses : [0.00111941 0.00303129 0.0070147  0.0178237  0.0063168  0.01294217\n",
      " 0.00451913 0.00900631]\n",
      "\n",
      "\n",
      "epoch 2450, losses : [ 0.00112839 -0.00156952 -0.0034828   0.01790427 -0.00729646  0.01127309\n",
      "  0.00032186  0.00759353]\n",
      "\n",
      "\n",
      "epoch 2500, losses : [ 1.04618748e-03  5.43568749e-05  4.45105275e-03 -9.71632637e-03\n",
      " -8.48851353e-03  1.38623035e-03 -7.64117017e-03  6.21075602e-03]\n",
      "\n",
      "\n",
      "epoch 2550, losses : [ 0.00105829  0.00802148 -0.01195268  0.00977117  0.00755843 -0.01347059\n",
      " -0.01105472 -0.00660095]\n",
      "\n",
      "\n",
      "epoch 2600, losses : [ 0.00094744  0.0064378  -0.01363368 -0.00226044  0.00463591  0.00895285\n",
      " -0.01010023  0.00351051]\n",
      "\n",
      "\n",
      "epoch 2650, losses : [ 0.00093119 -0.00432784 -0.00640002  0.00943541  0.00540712 -0.00563445\n",
      " -0.00484978  0.00744563]\n",
      "\n",
      "\n",
      "epoch 2700, losses : [ 0.00091555 -0.00368615  0.01702088 -0.0036624   0.00804921 -0.00157792\n",
      "  0.00067722 -0.00408423]\n",
      "\n",
      "\n",
      "epoch 2750, losses : [ 0.00084471  0.0019189  -0.01909771 -0.01292501 -0.00239965  0.00430037\n",
      " -0.00622595  0.00226226]\n",
      "\n",
      "\n",
      "epoch 2800, losses : [ 0.00080642  0.00082821 -0.00535108  0.00697328  0.01329001  0.00141243\n",
      " -0.00083083 -0.01567719]\n",
      "\n",
      "\n",
      "epoch 2850, losses : [ 0.00078747  0.00914782 -0.01452089  0.00699273  0.00196272  0.00814067\n",
      "  0.00380263 -0.00752765]\n",
      "\n",
      "\n",
      "epoch 2900, losses : [ 0.00072625  0.00812718 -0.0169153  -0.01002258 -0.00250728 -0.01245719\n",
      "  0.00618842  0.00457126]\n",
      "\n",
      "\n",
      "epoch 2950, losses : [ 0.00068305 -0.00558864 -0.00134034 -0.00681275  0.0099154  -0.00914802\n",
      " -0.0050275  -0.01386687]\n",
      "\n",
      "\n"
     ]
    }
   ],
   "source": [
    "my_models, losses = model_train(nb_epochs, inputs_size, batch_size, learning_rate, nb_ex_dates)"
   ]
  },
  {
   "cell_type": "code",
   "execution_count": 13,
   "metadata": {},
   "outputs": [
    {
     "data": {
      "text/plain": [
       "Text(0, 0.5, 'loss')"
      ]
     },
     "execution_count": 13,
     "metadata": {},
     "output_type": "execute_result"
    },
    {
     "data": {
      "image/png": "[encoded data removed]",
      "text/plain": [
       "<Figure size 1080x576 with 1 Axes>"
      ]
     },
     "metadata": {
      "needs_background": "light"
     },
     "output_type": "display_data"
    }
   ],
   "source": [
    "epoch = np.array([i * 50 for i in range(60)])\n",
    "plt.figure(figsize=(15,8))\n",
    "for i in range(len(losses[0])):\n",
    "    plt.plot(epoch, losses[:,i])\n",
    "plt.xlabel(\"epoch\")\n",
    "plt.ylabel(\"loss\")"
   ]
  },
  {
   "cell_type": "markdown",
   "metadata": {},
   "source": [
    "# # Lower Bound"
   ]
  },
  {
   "cell_type": "code",
   "execution_count": 15,
   "metadata": {},
   "outputs": [],
   "source": [
    "K_L = 1096000\n",
    "BS_lower = MultiDimensionalBS(initial_prices, interest_rate, dividends, volatilities, correlation_matrix)\n",
    "S_lower = BS_lower.Simulate(expiry, nb_ex_dates, K_L)\n",
    "x = torch.from_numpy(S_lower).float()\n",
    "y = torch.unsqueeze(torch.from_numpy(my_payoff.value(S_lower, interest_rate, diffusion_times)), dim=2).float()"
   ]
  },
  {
   "cell_type": "code",
   "execution_count": 18,
   "metadata": {},
   "outputs": [
    {
     "name": "stdout",
     "output_type": "stream",
     "text": [
      "8 reward : tensor(24.0065, device='cuda:0')\n",
      "7 reward : tensor(24.7302, device='cuda:0')\n",
      "6 reward : tensor(25.2801, device='cuda:0')\n",
      "5 reward : tensor(25.6800, device='cuda:0')\n",
      "4 reward : tensor(25.9449, device='cuda:0')\n",
      "3 reward : tensor(26.0811, device='cuda:0')\n",
      "2 reward : tensor(26.1112, device='cuda:0')\n",
      "1 reward : tensor(26.1112, device='cuda:0')\n",
      "0 reward : tensor(26.1112, device='cuda:0')\n"
     ]
    }
   ],
   "source": [
    "# init\n",
    "tau = y[:,nb_ex_dates].new_full(y[:,nb_ex_dates].shape, nb_ex_dates).to(device)\n",
    "payoff_tau = y[:,nb_ex_dates].to(device)\n",
    "\n",
    "# backward induction\n",
    "for n in range(nb_ex_dates - 1, 0, -1):\n",
    "    inputs = torch.cat((x[:,n], y[:,n]), 1)\n",
    "    f_n = (my_models[n - 1](inputs.to(device)) >= 0.5).detach().float()\n",
    "    tau = n * f_n + tau * (1 - f_n)\n",
    "    payoffs = y[:, n].to(device)\n",
    "    payoff_tau = payoffs * f_n + payoff_tau * (1 - f_n)\n",
    "    print(n, 'reward :', payoff_tau.mean())\n",
    "    \n",
    "# initial date\n",
    "payoffs = y[:,0].to(device)\n",
    "f_n = (payoffs >= (payoff_tau).mean()).detach().float()\n",
    "tau *= (1 - f_n)\n",
    "payoff_tau = payoffs * f_n + payoff_tau * (1 - f_n)\n",
    "\n",
    "lower = payoff_tau\n",
    "lower_bound = lower.mean().item()\n",
    "print(0, 'reward :', payoff_tau.mean())"
   ]
  },
  {
   "cell_type": "code",
   "execution_count": 19,
   "metadata": {},
   "outputs": [
    {
     "name": "stdout",
     "output_type": "stream",
     "text": [
      "tau : 7.096 lower bound : 26.111\n"
     ]
    }
   ],
   "source": [
    "print('tau :', round(tau.mean().item(), 3), 'lower bound :', round(lower_bound, 3))"
   ]
  },
  {
   "cell_type": "markdown",
   "metadata": {
    "execution": {
     "iopub.execute_input": "2021-12-07T14:02:52.157472Z",
     "iopub.status.busy": "2021-12-07T14:02:52.157099Z",
     "iopub.status.idle": "2021-12-07T14:02:52.162066Z",
     "shell.execute_reply": "2021-12-07T14:02:52.1612Z",
     "shell.execute_reply.started": "2021-12-07T14:02:52.157439Z"
    }
   },
   "source": [
    "# # Upper Bound"
   ]
  },
  {
   "cell_type": "code",
   "execution_count": 20,
   "metadata": {},
   "outputs": [],
   "source": [
    "J = 16384\n",
    "K_U = 1024\n",
    "BS_upper = MultiDimensionalBS(initial_prices, interest_rate, dividends, volatilities, correlation_matrix)"
   ]
  },
  {
   "cell_type": "code",
   "execution_count": 22,
   "metadata": {},
   "outputs": [],
   "source": [
    "S_upper = BS_upper.Simulate(expiry, nb_ex_dates, K_U)\n",
    "x = torch.from_numpy(S_upper).float()\n",
    "y = torch.unsqueeze(torch.from_numpy(my_payoff.value(S_upper, interest_rate, diffusion_times)), dim=2).float()"
   ]
  },
  {
   "cell_type": "code",
   "execution_count": 23,
   "metadata": {},
   "outputs": [
    {
     "ename": "NameError",
     "evalue": "name 'N' is not defined",
     "output_type": "error",
     "traceback": [
      "\u001b[0;31m---------------------------------------------------------------------------\u001b[0m",
      "\u001b[0;31mNameError\u001b[0m                                 Traceback (most recent call last)",
      "\u001b[0;32m/tmp/ipykernel_371/1123790341.py\u001b[0m in \u001b[0;36m<module>\u001b[0;34m\u001b[0m\n\u001b[0;32m----> 1\u001b[0;31m \u001b[0mS_cond\u001b[0m \u001b[0;34m=\u001b[0m \u001b[0mBS_upper\u001b[0m\u001b[0;34m.\u001b[0m\u001b[0mSimulate_Next_State\u001b[0m\u001b[0;34m(\u001b[0m\u001b[0mS_upper\u001b[0m\u001b[0;34m[\u001b[0m\u001b[0;34m:\u001b[0m\u001b[0;34m,\u001b[0m \u001b[0mN\u001b[0m \u001b[0;34m-\u001b[0m \u001b[0;36m1\u001b[0m\u001b[0;34m,\u001b[0m \u001b[0;34m:\u001b[0m\u001b[0;34m]\u001b[0m\u001b[0;34m,\u001b[0m \u001b[0mdiffusion_times\u001b[0m\u001b[0;34m[\u001b[0m\u001b[0mN\u001b[0m \u001b[0;34m-\u001b[0m \u001b[0;36m1\u001b[0m\u001b[0;34m]\u001b[0m\u001b[0;34m,\u001b[0m \u001b[0mdiffusion_times\u001b[0m\u001b[0;34m[\u001b[0m\u001b[0mN\u001b[0m\u001b[0;34m:\u001b[0m\u001b[0;34m]\u001b[0m\u001b[0;34m,\u001b[0m \u001b[0mJ\u001b[0m\u001b[0;34m)\u001b[0m\u001b[0;34m\u001b[0m\u001b[0;34m\u001b[0m\u001b[0m\n\u001b[0m\u001b[1;32m      2\u001b[0m \u001b[0my_cond\u001b[0m \u001b[0;34m=\u001b[0m \u001b[0;34m[\u001b[0m\u001b[0mmy_payoff\u001b[0m\u001b[0;34m.\u001b[0m\u001b[0mvalue\u001b[0m\u001b[0;34m(\u001b[0m\u001b[0mS_cond\u001b[0m\u001b[0;34m[\u001b[0m\u001b[0mk\u001b[0m\u001b[0;34m]\u001b[0m\u001b[0;34m,\u001b[0m \u001b[0minterest_rate\u001b[0m\u001b[0;34m,\u001b[0m \u001b[0mdiffusion_times\u001b[0m\u001b[0;34m[\u001b[0m\u001b[0mN\u001b[0m\u001b[0;34m:\u001b[0m\u001b[0;34m]\u001b[0m\u001b[0;34m)\u001b[0m \u001b[0;32mfor\u001b[0m \u001b[0mk\u001b[0m \u001b[0;32min\u001b[0m \u001b[0mrange\u001b[0m\u001b[0;34m(\u001b[0m\u001b[0mK_U\u001b[0m\u001b[0;34m)\u001b[0m\u001b[0;34m]\u001b[0m\u001b[0;34m\u001b[0m\u001b[0;34m\u001b[0m\u001b[0m\n\u001b[1;32m      3\u001b[0m \u001b[0mC_n_1\u001b[0m \u001b[0;34m=\u001b[0m \u001b[0mtorch\u001b[0m\u001b[0;34m.\u001b[0m\u001b[0mfrom_numpy\u001b[0m\u001b[0;34m(\u001b[0m\u001b[0mnp\u001b[0m\u001b[0;34m.\u001b[0m\u001b[0mmean\u001b[0m\u001b[0;34m(\u001b[0m\u001b[0mnp\u001b[0m\u001b[0;34m.\u001b[0m\u001b[0msqueeze\u001b[0m\u001b[0;34m(\u001b[0m\u001b[0;34m[\u001b[0m\u001b[0my_cond\u001b[0m\u001b[0;34m[\u001b[0m\u001b[0mk\u001b[0m\u001b[0;34m]\u001b[0m \u001b[0;32mfor\u001b[0m \u001b[0mk\u001b[0m \u001b[0;32min\u001b[0m \u001b[0mrange\u001b[0m\u001b[0;34m(\u001b[0m\u001b[0mK_U\u001b[0m\u001b[0;34m)\u001b[0m\u001b[0;34m]\u001b[0m\u001b[0;34m,\u001b[0m \u001b[0maxis\u001b[0m \u001b[0;34m=\u001b[0m \u001b[0;36m2\u001b[0m\u001b[0;34m)\u001b[0m\u001b[0;34m,\u001b[0m \u001b[0maxis\u001b[0m \u001b[0;34m=\u001b[0m \u001b[0;36m1\u001b[0m\u001b[0;34m)\u001b[0m\u001b[0;34m)\u001b[0m\u001b[0;34m.\u001b[0m\u001b[0mto\u001b[0m\u001b[0;34m(\u001b[0m\u001b[0mdevice\u001b[0m\u001b[0;34m)\u001b[0m\u001b[0;34m\u001b[0m\u001b[0;34m\u001b[0m\u001b[0m\n\u001b[1;32m      4\u001b[0m \u001b[0mmg_increments\u001b[0m \u001b[0;34m=\u001b[0m \u001b[0mtorch\u001b[0m\u001b[0;34m.\u001b[0m\u001b[0mfrom_numpy\u001b[0m\u001b[0;34m(\u001b[0m\u001b[0mnp\u001b[0m\u001b[0;34m.\u001b[0m\u001b[0marray\u001b[0m\u001b[0;34m(\u001b[0m\u001b[0;34m[\u001b[0m\u001b[0;34m[\u001b[0m\u001b[0;36m0.0\u001b[0m\u001b[0;34m]\u001b[0m \u001b[0;34m*\u001b[0m \u001b[0mK_U\u001b[0m\u001b[0;34m]\u001b[0m \u001b[0;34m*\u001b[0m \u001b[0;34m(\u001b[0m\u001b[0mN\u001b[0m \u001b[0;34m+\u001b[0m \u001b[0;36m1\u001b[0m\u001b[0;34m)\u001b[0m\u001b[0;34m)\u001b[0m\u001b[0;34m)\u001b[0m\u001b[0;34m\u001b[0m\u001b[0;34m\u001b[0m\u001b[0m\n\u001b[1;32m      5\u001b[0m \u001b[0mmg_increments\u001b[0m\u001b[0;34m[\u001b[0m\u001b[0mN\u001b[0m\u001b[0;34m]\u001b[0m \u001b[0;34m=\u001b[0m \u001b[0my\u001b[0m\u001b[0;34m[\u001b[0m\u001b[0;34m:\u001b[0m\u001b[0;34m,\u001b[0m \u001b[0mN\u001b[0m\u001b[0;34m,\u001b[0m \u001b[0;36m0\u001b[0m\u001b[0;34m]\u001b[0m\u001b[0;34m.\u001b[0m\u001b[0mto\u001b[0m\u001b[0;34m(\u001b[0m\u001b[0mdevice\u001b[0m\u001b[0;34m)\u001b[0m \u001b[0;34m-\u001b[0m \u001b[0mC_n_1\u001b[0m\u001b[0;34m\u001b[0m\u001b[0;34m\u001b[0m\u001b[0m\n",
      "\u001b[0;31mNameError\u001b[0m: name 'N' is not defined"
     ]
    }
   ],
   "source": [
    "S_cond = BS_upper.Simulate_Next_State(S_upper[:, nb_ex_dates - 1, :], diffusion_times[nb_ex_dates - 1], diffusion_times[nb_ex_dates:], J)\n",
    "y_cond = [my_payoff.value(S_cond[k], interest_rate, diffusion_times[nb_ex_dates:]) for k in range(K_U)]\n",
    "C_n_1 = torch.from_numpy(np.mean(np.squeeze([y_cond[k] for k in range(K_U)], axis = 2), axis = 1)).to(device)\n",
    "mg_increments = torch.from_numpy(np.array([[0.0] * K_U] * (nb_ex_dates + 1)))\n",
    "mg_increments[nb_ex_dates] = y[:, nb_ex_dates, 0].to(device) - C_n_1\n",
    "f_n = [[torch.from_numpy(np.array([[1.0] * 1] * J)).to(device)] * 1] * K_U\n",
    "\n",
    "for n in range(nb_ex_dates - 1, 0, -1):\n",
    "    S_cond = BS_upper.Simulate_Next_State(S_upper[:, n - 1, :], diffusion_times[n - 1], diffusion_times[n:], J)\n",
    "    y_cond = [torch.unsqueeze(torch.from_numpy(my_payoff.value(S_cond[k], interest_rate, diffusion_times[n:])), dim = 2).float() for k in range(K_U)]\n",
    "    S_cond = torch.from_numpy(S_cond).float()\n",
    "    \n",
    "    inputs = [[torch.cat((S_cond[k][:, m], y_cond[k][:, m]), 1) for m in range(0, nb_ex_dates - n)] for k in range(K_U)]\n",
    "    payoff_tau = [y_cond[k][:, nb_ex_dates - n].to(device) for k in range(K_U)]\n",
    "        \n",
    "    if (not (n == nb_ex_dates - 1)):\n",
    "        f_n = [[(my_models[n + m - 1](inputs[k][m].to(device)) >= 0.5).detach().float() for m in range(0, N - n)] for k in range(K_U)]\n",
    "        \n",
    "        for m in range(N - n - 1, -1, -1):\n",
    "            payoff_tau = [y_cond[k][:, m, :].to(device) * f_n[k][m] + (1 - f_n[k][m]) * payoff_tau[k] for k in range(K_U)]\n",
    "    \n",
    "    C_n = C_n_1\n",
    "    C_n_1 = [torch.mean(torch.squeeze(payoff_tau[k], dim = 1)).item() for k in range(K_U)]\n",
    "    C_n_1 = torch.from_numpy(np.array(C_n_1)).to(device)\n",
    "        \n",
    "    inputs = torch.cat((x[:,n], y[:,n]), 1)\n",
    "    f_n = (my_models[n - 1](inputs.to(device)) >= 0.5).detach().float()\n",
    "    mg_increments[n] = (y[:, n, 0].to(device) - C_n) * torch.squeeze(f_n, dim = 1) + C_n - C_n_1\n",
    "    \n",
    "mg_doob = torch.cumsum(torch.transpose(mg_increments, 0, 1), dim = 1)\n",
    "\n",
    "upper = (y[:,:,0].to(device) - mg_doob.to(device)).max(dim = 1).values\n",
    "upper_bound = upper.mean().item()"
   ]
  },
  {
   "cell_type": "code",
   "execution_count": null,
   "metadata": {},
   "outputs": [],
   "source": [
    "print('upper bound :', round(upper_bound, 3))"
   ]
  },
  {
   "cell_type": "code",
   "execution_count": null,
   "metadata": {},
   "outputs": [],
   "source": [
    "IC_inf = round(lower_bound - 1.96 * torch.std(lower).item() / sqrt(K_L), 3)\n",
    "IC_sup = round(upper_bound + 1.96 * torch.std(upper).item() / sqrt(K_U), 3)\n",
    "\n",
    "print('- lower bound :', round(lower_bound, 3))\n",
    "print('- upper bound :', round(upper_bound, 3))\n",
    "print('- point estimator :', round((lower_bound + upper_bound) / 2.0, 3))\n",
    "print('')\n",
    "print('IC 90% :', (IC_inf, IC_sup))"
   ]
  },
  {
   "cell_type": "code",
   "execution_count": null,
   "metadata": {},
   "outputs": [],
   "source": [
    "# to do : qq tests et graphes"
   ]
  },
  {
   "cell_type": "markdown",
   "metadata": {},
   "source": [
    "##### "
   ]
  }
 ],
 "metadata": {
  "kernelspec": {
   "display_name": "Python 3 (ipykernel)",
   "language": "python",
   "name": "python3"
  },
  "language_info": {
   "codemirror_mode": {
    "name": "ipython",
    "version": 3
   },
   "file_extension": ".py",
   "mimetype": "text/x-python",
   "name": "python",
   "nbconvert_exporter": "python",
   "pygments_lexer": "ipython3",
   "version": "3.8.6"
  }
 },
 "nbformat": 4,
 "nbformat_minor": 4
}
