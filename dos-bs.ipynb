{
 "cells": [
  {
   "cell_type": "code",
   "execution_count": 2,
   "metadata": {
    "_cell_guid": "b1076dfc-b9ad-4769-8c92-a6c4dae69d19",
    "_uuid": "8f2839f25d086af736a60e9eeb907d3b93b6e0e5",
    "tags": []
   },
   "outputs": [],
   "source": [
    "import numpy as np\n",
    "import pandas as pd\n",
    "import matplotlib.pyplot as plt\n",
    "import torch\n",
    "import torch.nn as nn\n",
    "from math import ceil, sqrt\n",
    "import copy"
   ]
  },
  {
   "cell_type": "code",
   "execution_count": 3,
   "metadata": {
    "tags": []
   },
   "outputs": [],
   "source": [
    "class MultiDimensionalBS:\n",
    "    def __init__(self, initial_prices, interest_rate, dividends, volatilities, correlation_matrix):\n",
    "        self.initial_prices = initial_prices\n",
    "        self.interest_rate = interest_rate\n",
    "        self.dividends = dividends\n",
    "        self.volatilities = volatilities\n",
    "        self.correlation_matrix = correlation_matrix\n",
    "        self.dimension = len(initial_prices)\n",
    "        self.var_cov = np.linalg.cholesky(np.matmul(np.diag(self.volatilities), np.matmul(self.correlation_matrix, np.diag(self.volatilities))))\n",
    "    \n",
    "    def Simulate(self, expiry, nb_time_discr, number_paths):\n",
    "        diffusion_list = np.linspace(0, expiry, nb_time_discr + 1)\n",
    "        last_index = len(diffusion_list) - 1\n",
    "        delta_time = expiry / last_index\n",
    "        dW = np.sqrt(delta_time) * np.random.randn(number_paths, last_index, self.dimension)\n",
    "        dW = np.append(np.zeros((number_paths, 1, self.dimension)), dW, axis=1)\n",
    "        cst = self.interest_rate - self.dividends - 0.5 * (self.volatilities ** 2)\n",
    "        W = np.cumsum(np.matmul(dW, self.var_cov), axis = 1)\n",
    "        S = self.initial_prices * np.exp(cst * diffusion_list[np.newaxis, :, np.newaxis] + W)\n",
    "                    \n",
    "        return S\n",
    "    \n",
    "    def Simulate_Next_State(self, current_price, current_time, diffusion_times, nb_paths):\n",
    "        delta_time = diffusion_times[0] - current_time\n",
    "        dW = np.sqrt(delta_time) * np.random.randn(nb_paths, len(diffusion_times), self.dimension)\n",
    "        cst = self.interest_rate - self.dividends - 0.5 * (self.volatilities ** 2)\n",
    "        W = np.cumsum(np.matmul(dW, self.var_cov), axis = 1)\n",
    "        S = current_price[:, np.newaxis, np.newaxis, :] * np.exp(cst * (diffusion_times[np.newaxis, :, np.newaxis] - current_time) + W)\n",
    "                    \n",
    "        return S"
   ]
  },
  {
   "cell_type": "code",
   "execution_count": 4,
   "metadata": {
    "tags": []
   },
   "outputs": [],
   "source": [
    "class Payoff:\n",
    "    def __init__(self, strike, option_type):\n",
    "        self.strike = strike\n",
    "        self.option_type = option_type\n",
    "        \n",
    "    def value(self, asset_prices, interest_rate, dates, k=0):\n",
    "        if (self.option_type == 0):\n",
    "            return np.exp(-interest_rate * dates[np.newaxis, k:]) * np.maximum(asset_prices.max(axis = 2) - self.strike, 0)\n",
    "        \n",
    "        elif (self.option_type == 1):\n",
    "            return np.exp(-interest_rate * dates[np.newaxis, k:]) * np.maximum(self.strike - asset_prices.min(axis = 2), 0)\n",
    "        \n",
    "        elif (self.option_type == 2):\n",
    "            d = len(asset_prices[0][0])\n",
    "            np.exp(-interest_rate * dates[np.newaxis, k:]) * np.maximum(asset_prices.prod(axis = 2)**(1/d) - self.strike, 0)"
   ]
  },
  {
   "cell_type": "code",
   "execution_count": 5,
   "metadata": {
    "tags": []
   },
   "outputs": [],
   "source": [
    "##### BS parameters\n",
    "\n",
    "nb_assets = 5\n",
    "interest_rate = 0.05\n",
    "expiry = 3\n",
    "nb_ex_dates = 9\n",
    "strike = 100\n",
    "my_payoff = Payoff(strike, 0)\n",
    "\n",
    "initial_prices = np.full(nb_assets, 100)\n",
    "dividends = np.full(nb_assets, 0.1)\n",
    "volatilities = np.full(nb_assets, 0.2)\n",
    "diffusion_times = np.linspace(0, expiry, nb_ex_dates + 1)\n",
    "correlation_matrix = np.eye(nb_assets)"
   ]
  },
  {
   "cell_type": "markdown",
   "metadata": {},
   "source": [
    "# # Train Neural Net"
   ]
  },
  {
   "cell_type": "code",
   "execution_count": 6,
   "metadata": {},
   "outputs": [],
   "source": [
    "# NN parameters\n",
    "nb_epochs = 3000\n",
    "batch_size = 8192\n",
    "inputs_size = batch_size * 1\n",
    "q1 = q2 = 40 + nb_assets\n",
    "learning_rate = 0.001"
   ]
  },
  {
   "cell_type": "code",
   "execution_count": 7,
   "metadata": {
    "tags": []
   },
   "outputs": [
    {
     "name": "stdout",
     "output_type": "stream",
     "text": [
      "cuda:0\n"
     ]
    }
   ],
   "source": [
    "device = torch.device(\"cuda:0\" if torch.cuda.is_available() else \"cpu\")\n",
    "print(device)"
   ]
  },
  {
   "cell_type": "code",
   "execution_count": 8,
   "metadata": {},
   "outputs": [],
   "source": [
    "nn_base = nn.Sequential(nn.Linear(nb_assets + 1, q1), nn.BatchNorm1d(q1), nn.ReLU(), nn.Linear(q1, q2), \n",
    "                                        nn.BatchNorm1d(q2), nn.ReLU(), torch.nn.Linear(q2, 1), torch.nn.Sigmoid())"
   ]
  },
  {
   "cell_type": "code",
   "execution_count": 11,
   "metadata": {
    "tags": []
   },
   "outputs": [],
   "source": [
    "def model_train(nb_epochs, inputs_size, batch_size, learning_rate, N, re_use_nn_params = False):\n",
    "\n",
    "    #################################################################################################################\n",
    "    ####################################################                  MODELS INIT\n",
    "    \n",
    "    nb_batches = ceil(inputs_size / batch_size)\n",
    "    f = [copy.deepcopy(nn_base).to(device) for i in range(N - 1)]\n",
    "    optimizers = [torch.optim.Adam(f[i].parameters(), lr = learning_rate) for i in range(N - 1)]\n",
    "    BS = MultiDimensionalBS(initial_prices, interest_rate, dividends, volatilities, correlation_matrix)\n",
    "    losses = np.array([[0.0] * (N - 1)] * int(nb_epochs / 50))\n",
    "    comp = 0\n",
    "    \n",
    "    #################################################################################################################\n",
    "    ####################################################                  TRAINING\n",
    "\n",
    "    for epoch in range(nb_epochs):\n",
    "        S_train = BS.Simulate(expiry, N, inputs_size)\n",
    "        x = torch.from_numpy(S_train).float()\n",
    "        y = torch.unsqueeze(torch.from_numpy(my_payoff.value(S_train, interest_rate, diffusion_times)), dim=2).float()\n",
    "        payoff_tau = [y[i * batch_size : min((i + 1) * batch_size, inputs_size) , N].to(device) for i in range(nb_batches)]\n",
    "        this_epoch_loss = [0.0] * (N - 1)\n",
    "\n",
    "        # bakward induction\n",
    "        \n",
    "        for n in range(N - 1, 0, -1):\n",
    "            inputs = torch.cat((x[:,n], y[:,n]), 1)\n",
    "            payoffs = [y[i * batch_size : min((i + 1) * batch_size, inputs_size) , n] for i in range(nb_batches)]\n",
    "            \n",
    "            if n < N - 2 and re_use_nn_params:\n",
    "                f[n].parameters = f[n + 1].parameters\n",
    "            \n",
    "            for batch in range(nb_batches):\n",
    "                this_batch_inputs = inputs[batch * batch_size : min((batch + 1) * batch_size, inputs_size), :].to(device)\n",
    "                optimizers[n - 1].zero_grad()\n",
    "                F_n = f[n - 1](this_batch_inputs)\n",
    "                f_n = (F_n >= 0.5).detach().float()\n",
    "                payoffs_batch = y[batch * batch_size : min((batch + 1) * batch_size, inputs_size) , n].to(device)\n",
    "                payoff_tau[batch] = payoffs_batch * f_n + payoff_tau[batch] * (1 - f_n)\n",
    "                z = torch.mean(torch.mul(torch.subtract(payoff_tau[batch], payoffs_batch), F_n))\n",
    "                this_epoch_loss[n - 1] = z.item()\n",
    "                z.backward()\n",
    "                optimizers[n - 1].step()\n",
    "                \n",
    "        if(epoch % 50 == 0):\n",
    "            losses[comp] = this_epoch_loss \n",
    "            print('epoch {}, losses : {}'.format(epoch, losses[comp]))\n",
    "            print('\\n')\n",
    "            comp += 1\n",
    "                \n",
    "    return f, losses"
   ]
  },
  {
   "cell_type": "code",
   "execution_count": null,
   "metadata": {
    "_kg_hide-output": true,
    "tags": []
   },
   "outputs": [
    {
     "name": "stdout",
     "output_type": "stream",
     "text": [
      "epoch 0, losses : [1.2039094  0.81609917 0.53678793 0.33152485 0.16402    0.10767576\n",
      " 0.08065405 0.00475492]\n",
      "\n",
      "\n",
      "epoch 50, losses : [2.22419047 1.58911753 1.19058192 0.84727108 0.63702142 0.39221081\n",
      " 0.28329051 0.10990529]\n",
      "\n",
      "\n",
      "epoch 100, losses : [1.04205453 0.65537596 0.45956317 0.30332065 0.18965191 0.12063567\n",
      " 0.11419243 0.05849584]\n",
      "\n",
      "\n",
      "epoch 150, losses : [ 0.41725534  0.29175764  0.18091866  0.06432973  0.00609679 -0.0257486\n",
      "  0.01016013 -0.03635094]\n",
      "\n",
      "\n",
      "epoch 200, losses : [0.22505192 0.17786761 0.15342686 0.07498824 0.04245114 0.02068957\n",
      " 0.01973377 0.00078806]\n",
      "\n",
      "\n",
      "epoch 250, losses : [ 0.13614029  0.09055069  0.04677907  0.00610409  0.03471658 -0.01930446\n",
      "  0.01372305  0.00067412]\n",
      "\n",
      "\n",
      "epoch 300, losses : [ 0.09457548  0.05538251  0.02004209  0.00983888  0.01709586  0.01689601\n",
      " -0.03546107  0.02479185]\n",
      "\n",
      "\n"
     ]
    }
   ],
   "source": [
    "my_models, losses = model_train(nb_epochs, inputs_size, batch_size, learning_rate, nb_ex_dates)"
   ]
  },
  {
   "cell_type": "code",
   "execution_count": 41,
   "metadata": {},
   "outputs": [
    {
     "data": {
      "text/plain": [
       "Text(0, 0.5, 'loss')"
      ]
     },
     "execution_count": 41,
     "metadata": {},
     "output_type": "execute_result"
    },
    {
     "data": {
      "image/png": "[encoded data removed]",
      "text/plain": [
       "<Figure size 1080x576 with 1 Axes>"
      ]
     },
     "metadata": {
      "needs_background": "light"
     },
     "output_type": "display_data"
    }
   ],
   "source": [
    "epoch = np.array([i * 50 for i in range(60)])\n",
    "plt.figure(figsize=(15,8))\n",
    "for i in range(len(losses[0])):\n",
    "    plt.plot(epoch, losses[:,i])\n",
    "plt.xlabel(\"epoch\")\n",
    "plt.ylabel(\"loss\")"
   ]
  },
  {
   "cell_type": "markdown",
   "metadata": {},
   "source": [
    "# # Lower Bound"
   ]
  },
  {
   "cell_type": "code",
   "execution_count": null,
   "metadata": {},
   "outputs": [],
   "source": [
    "K_L = 1096000\n",
    "BS_lower = MultiDimensionalBS(initial_prices, interest_rate, dividends, volatilities, correlation_matrix)\n",
    "S_lower = BS_lower.Simulate(expiry, N, K_L)\n",
    "x = torch.from_numpy(S_lower).float()\n",
    "y = torch.unsqueeze(torch.from_numpy(my_payoff.value(S_lower, interest_rate, diffusion_times)), dim=2).float()"
   ]
  },
  {
   "cell_type": "code",
   "execution_count": 39,
   "metadata": {},
   "outputs": [
    {
     "name": "stdout",
     "output_type": "stream",
     "text": [
      "8 reward : tensor(23.9736, device='cuda:0')\n",
      "7 reward : tensor(24.6947, device='cuda:0')\n",
      "6 reward : tensor(25.2472, device='cuda:0')\n",
      "5 reward : tensor(25.6450, device='cuda:0')\n",
      "4 reward : tensor(25.9072, device='cuda:0')\n",
      "3 reward : tensor(26.0367, device='cuda:0')\n",
      "2 reward : tensor(26.0726, device='cuda:0')\n",
      "1 reward : tensor(26.0726, device='cuda:0')\n",
      "0 reward : tensor(26.0726, device='cuda:0')\n"
     ]
    }
   ],
   "source": [
    "# init\n",
    "tau = y[:,N].new_full(y[:,N].shape, N).to(device)\n",
    "payoff_tau = y[:,N].to(device)\n",
    "\n",
    "# backward induction\n",
    "for n in range(N - 1, 0, -1):\n",
    "    inputs = torch.cat((x[:,n], y[:,n]), 1)\n",
    "    f_n = (my_models[n - 1](inputs.to(device)) >= 0.5).detach().float()\n",
    "    tau = n * f_n + tau * (1 - f_n)\n",
    "    payoffs = y[:, n].to(device)\n",
    "    payoff_tau = payoffs * f_n + payoff_tau * (1 - f_n)\n",
    "    print(n, 'reward :', payoff_tau.mean())\n",
    "    \n",
    "# initial date\n",
    "payoffs = y[:,0].to(device)\n",
    "f_n = (payoffs >= (payoff_tau).mean()).detach().float()\n",
    "tau *= (1 - f_n)\n",
    "payoff_tau = payoffs * f_n + payoff_tau * (1 - f_n)\n",
    "\n",
    "lower = payoff_tau\n",
    "lower_bound = lower.mean().item()\n",
    "print(0, 'reward :', payoff_tau.mean())"
   ]
  },
  {
   "cell_type": "code",
   "execution_count": 11,
   "metadata": {},
   "outputs": [
    {
     "name": "stdout",
     "output_type": "stream",
     "text": [
      "tau : 7.137 lower bound : 13.871\n"
     ]
    }
   ],
   "source": [
    "print('tau :', round(tau.mean().item(), 3), 'lower bound :', round(lower_bound, 3))"
   ]
  },
  {
   "cell_type": "markdown",
   "metadata": {
    "execution": {
     "iopub.execute_input": "2021-12-07T14:02:52.157472Z",
     "iopub.status.busy": "2021-12-07T14:02:52.157099Z",
     "iopub.status.idle": "2021-12-07T14:02:52.162066Z",
     "shell.execute_reply": "2021-12-07T14:02:52.1612Z",
     "shell.execute_reply.started": "2021-12-07T14:02:52.157439Z"
    }
   },
   "source": [
    "# # Upper Bound"
   ]
  },
  {
   "cell_type": "code",
   "execution_count": 12,
   "metadata": {},
   "outputs": [],
   "source": [
    "J = 16384\n",
    "K_U = 1024\n",
    "BS_upper = MultiDimensionalBS(initial_prices, interest_rate, dividends, volatilities, correlation_matrix)"
   ]
  },
  {
   "cell_type": "code",
   "execution_count": 13,
   "metadata": {},
   "outputs": [],
   "source": [
    "S_upper = BS_upper.Simulate(expiry, N, K_U)\n",
    "x = torch.from_numpy(S_upper).float()\n",
    "y = torch.unsqueeze(torch.from_numpy(my_payoff.value(S_upper, interest_rate, diffusion_times)), dim=2).float()"
   ]
  },
  {
   "cell_type": "code",
   "execution_count": null,
   "metadata": {},
   "outputs": [],
   "source": [
    "S_cond = BS_upper.Simulate_Next_State(S_upper[:, N - 1, :], diffusion_times[N - 1], diffusion_times[N:], J)\n",
    "y_cond = [my_payoff.value(S_cond[k], interest_rate, diffusion_times[N:]) for k in range(K_U)]\n",
    "C_n_1 = torch.from_numpy(np.mean(np.squeeze([y_cond[k] for k in range(K_U)], axis = 2), axis = 1)).to(device)\n",
    "mg_increments = torch.from_numpy(np.array([[0.0] * K_U] * (N + 1)))\n",
    "mg_increments[N] = y[:, N, 0].to(device) - C_n_1\n",
    "f_n = [[torch.from_numpy(np.array([[1.0] * 1] * J)).to(device)] * 1] * K_U\n",
    "\n",
    "for n in range(N - 1, 0, -1):\n",
    "    S_cond = BS_upper.Simulate_Next_State(S_upper[:, n - 1, :], diffusion_times[n - 1], diffusion_times[n:], J)\n",
    "    y_cond = [torch.unsqueeze(torch.from_numpy(my_payoff.value(S_cond[k], interest_rate, diffusion_times[n:])), dim = 2).float() for k in range(K_U)]\n",
    "    S_cond = torch.from_numpy(S_cond).float()\n",
    "    \n",
    "    inputs = [[torch.cat((S_cond[k][:, m], y_cond[k][:, m]), 1) for m in range(0, N - n)] for k in range(K_U)]\n",
    "    payoff_tau = [y_cond[k][:, N - n].to(device) for k in range(K_U)]\n",
    "        \n",
    "    if (not (n == N - 1)):\n",
    "        f_n = [[(my_models[n + m - 1](inputs[k][m].to(device)) >= 0.5).detach().float() for m in range(0, N - n)] for k in range(K_U)]\n",
    "        \n",
    "        for m in range(N - n - 1, -1, -1):\n",
    "            payoff_tau = [y_cond[k][:, m, :].to(device) * f_n[k][m] + (1 - f_n[k][m]) * payoff_tau[k] for k in range(K_U)]\n",
    "    \n",
    "    C_n = C_n_1\n",
    "    C_n_1 = [torch.mean(torch.squeeze(payoff_tau[k], dim = 1)).item() for k in range(K_U)]\n",
    "    C_n_1 = torch.from_numpy(np.array(C_n_1)).to(device)\n",
    "        \n",
    "    inputs = torch.cat((x[:,n], y[:,n]), 1)\n",
    "    f_n = (my_models[n - 1](inputs.to(device)) >= 0.5).detach().float()\n",
    "    mg_increments[n] = (y[:, n, 0].to(device) - C_n) * torch.squeeze(f_n, dim = 1) + C_n - C_n_1\n",
    "    \n",
    "mg_doob = torch.cumsum(torch.transpose(mg_increments, 0, 1), dim = 1)\n",
    "\n",
    "upper = (y[:,:,0].to(device) - mg_doob.to(device)).max(dim = 1).values\n",
    "upper_bound = upper.mean().item()"
   ]
  },
  {
   "cell_type": "code",
   "execution_count": null,
   "metadata": {},
   "outputs": [],
   "source": [
    "print('upper bound :', round(upper_bound, 3))"
   ]
  },
  {
   "cell_type": "code",
   "execution_count": null,
   "metadata": {},
   "outputs": [],
   "source": [
    "IC_inf = round(lower_bound - 1.96 * torch.std(lower).item() / sqrt(K_L), 3)\n",
    "IC_sup = round(upper_bound + 1.96 * torch.std(upper).item() / sqrt(K_U), 3)\n",
    "\n",
    "print('- lower bound :', round(lower_bound, 3))\n",
    "print('- upper bound :', round(upper_bound, 3))\n",
    "print('- point estimator :', round((lower_bound + upper_bound) / 2.0, 3))\n",
    "print('')\n",
    "print('IC 90% :', (IC_inf, IC_sup))"
   ]
  },
  {
   "cell_type": "code",
   "execution_count": null,
   "metadata": {},
   "outputs": [],
   "source": [
    "# to do : qq tests et graphes"
   ]
  },
  {
   "cell_type": "markdown",
   "metadata": {},
   "source": [
    "##### "
   ]
  }
 ],
 "metadata": {
  "kernelspec": {
   "display_name": "Python 3 (ipykernel)",
   "language": "python",
   "name": "python3"
  },
  "language_info": {
   "codemirror_mode": {
    "name": "ipython",
    "version": 3
   },
   "file_extension": ".py",
   "mimetype": "text/x-python",
   "name": "python",
   "nbconvert_exporter": "python",
   "pygments_lexer": "ipython3",
   "version": "3.8.6"
  }
 },
 "nbformat": 4,
 "nbformat_minor": 4
}
