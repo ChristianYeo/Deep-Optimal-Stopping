{
 "cells": [
  {
   "cell_type": "code",
   "execution_count": 1,
   "metadata": {
    "_cell_guid": "b1076dfc-b9ad-4769-8c92-a6c4dae69d19",
    "_uuid": "8f2839f25d086af736a60e9eeb907d3b93b6e0e5",
    "tags": []
   },
   "outputs": [],
   "source": [
    "import numpy as np\n",
    "import pandas as pd\n",
    "import matplotlib.pyplot as plt\n",
    "import torch\n",
    "import torch.nn as nn\n",
    "from math import ceil, sqrt\n",
    "import copy"
   ]
  },
  {
   "cell_type": "markdown",
   "metadata": {},
   "source": [
    "## Black & Scholes model"
   ]
  },
  {
   "cell_type": "code",
   "execution_count": 2,
   "metadata": {
    "tags": []
   },
   "outputs": [],
   "source": [
    "class MultiDimensionalBS:\n",
    "    def __init__(self, initial_prices, interest_rate, dividends, volatilities, correlation_matrix):\n",
    "        self.initial_prices = initial_prices\n",
    "        self.interest_rate = interest_rate\n",
    "        self.dividends = dividends\n",
    "        self.volatilities = volatilities\n",
    "        self.correlation_matrix = correlation_matrix\n",
    "        self.dimension = len(initial_prices)\n",
    "        self.var_cov = np.linalg.cholesky(np.matmul(np.diag(self.volatilities), np.matmul(self.correlation_matrix, np.diag(self.volatilities))))\n",
    "        \n",
    "        assert self.dimension == len(self.dividends) and self.dimension == len(self.volatilities) and self.dimension == len(self.var_cov[0]) and self.dimension == len(self.var_cov), \"Arrays should have same lenght as the problem dimension !\"\n",
    "    \n",
    "    def Simulate(self, expiry, nb_time_discr, number_paths):\n",
    "        \"\"\" Simulate stock prices under BS model until expiry and with constant timestep \"\"\"\n",
    "        diffusion_list = np.linspace(0, expiry, nb_time_discr + 1)\n",
    "        last_index = len(diffusion_list) - 1\n",
    "        delta_time = expiry / last_index\n",
    "        dW = np.sqrt(delta_time) * np.random.randn(number_paths, last_index, self.dimension)\n",
    "        dW = np.append(np.zeros((number_paths, 1, self.dimension)), dW, axis=1)\n",
    "        cst = self.interest_rate - self.dividends - 0.5 * (self.volatilities ** 2)\n",
    "        W = np.cumsum(np.matmul(dW, self.var_cov), axis = 1)\n",
    "        S = self.initial_prices * np.exp(cst * diffusion_list[np.newaxis, :, np.newaxis] + W)\n",
    "                    \n",
    "        return S\n",
    "    \n",
    "    def Simulate_Next_State(self, current_price, current_time, diffusion_times, nb_paths):\n",
    "        \"\"\" Simulate conditionnal stock prices under BS model until expiry and with constant timestep \"\"\"\n",
    "        delta_time = diffusion_times[0] - current_time\n",
    "        dW = np.sqrt(delta_time) * np.random.randn(nb_paths, len(diffusion_times), self.dimension)\n",
    "        cst = self.interest_rate - self.dividends - 0.5 * (self.volatilities ** 2)\n",
    "        W = np.cumsum(np.matmul(dW, self.var_cov), axis = 1)\n",
    "        S = current_price[:, np.newaxis, np.newaxis, :] * np.exp(cst * (diffusion_times[np.newaxis, :, np.newaxis] - current_time) + W)\n",
    "                    \n",
    "        return S"
   ]
  },
  {
   "cell_type": "markdown",
   "metadata": {},
   "source": [
    "## Payoffs Management"
   ]
  },
  {
   "cell_type": "code",
   "execution_count": 3,
   "metadata": {
    "tags": []
   },
   "outputs": [],
   "source": [
    "class Payoff:\n",
    "    def __init__(self, strike, option_type):\n",
    "        self.strike = strike\n",
    "        self.option_type = option_type\n",
    "        \n",
    "    def value(self, asset_prices, interest_rate, dates, k=0):\n",
    "        if (self.option_type == 0):\n",
    "            # max call\n",
    "            return np.exp(-interest_rate * dates[np.newaxis, k:]) * np.maximum(asset_prices.max(axis = 2) - self.strike, 0)\n",
    "        \n",
    "        elif (self.option_type == 1):\n",
    "            # max put\n",
    "            return np.exp(-interest_rate * dates[np.newaxis, k:]) * np.maximum(self.strike - asset_prices.min(axis = 2), 0)\n",
    "        \n",
    "        elif (self.option_type == 2):\n",
    "            d = len(asset_prices[0][0])\n",
    "            # geometric call\n",
    "            np.exp(-interest_rate * dates[np.newaxis, k:]) * np.maximum(asset_prices.prod(axis = 2)**(1/d) - self.strike, 0)"
   ]
  },
  {
   "cell_type": "markdown",
   "metadata": {},
   "source": [
    "## Neural Net Training"
   ]
  },
  {
   "cell_type": "code",
   "execution_count": 4,
   "metadata": {
    "tags": []
   },
   "outputs": [
    {
     "name": "stdout",
     "output_type": "stream",
     "text": [
      "cuda:0\n"
     ]
    }
   ],
   "source": [
    "device = torch.device(\"cuda:0\" if torch.cuda.is_available() else \"cpu\")\n",
    "print(device)"
   ]
  },
  {
   "cell_type": "code",
   "execution_count": 66,
   "metadata": {},
   "outputs": [],
   "source": [
    "def Build_Neural_Network(nn_structure):\n",
    "    \n",
    "    nb_hidden_layers = len(nn_structure) - 2\n",
    "    assert nb_hidden_layers >= 2, \" A neural network has a least two layers : input and output \"\n",
    "    \n",
    "    layers = []\n",
    "        \n",
    "    for i in range(0, nb_hidden_layers):\n",
    "        layers += [nn.Linear(nn_structure[i], nn_structure[i + 1]), nn.BatchNorm1d(nn_structure[i + 1]), nn.ReLU()]\n",
    "      \n",
    "    layers += [torch.nn.Linear(nn_structure[nb_hidden_layers], nn_structure[nb_hidden_layers + 1]), torch.nn.Sigmoid()]\n",
    "    \n",
    "    return nn.Sequential(*layers)"
   ]
  },
  {
   "cell_type": "code",
   "execution_count": 70,
   "metadata": {
    "tags": []
   },
   "outputs": [],
   "source": [
    "def model_train(nn_structure, nn_hyper_params, model_params, nb_epoch_before_display, re_use_nn_params = False):\n",
    "    \n",
    "    # nn_structure : list containing specification of hidden layer : \n",
    "    # nn_hyper_params : dict containing nn hyperparameters\n",
    "    # model_params : dict containing BS model parameters\n",
    "    # re_use_nn_params : if True : we previously trained nn to initialize current nn weights\n",
    "\n",
    "    #################################################################################################################\n",
    "    ####################################################                  MODELS INIT\n",
    "    \n",
    "    N = len(model_params['diffusion_times']) - 1\n",
    "    nb_batches = ceil(nn_hyper_params['inputs_size'] / nn_hyper_params['batch_size'])\n",
    "    \n",
    "    nn_base = Build_Neural_Network(nn_structure)\n",
    "    f = [copy.deepcopy(nn_base).to(device) for i in range(N - 1)]\n",
    "    optimizers = [torch.optim.Adam(f[i].parameters(), lr = nn_hyper_params['lr']) for i in range(N - 1)]\n",
    "    BS = MultiDimensionalBS(model_params['initial_prices'], model_params['interest_rate'], model_params['dividends'], model_params['volatilities'], model_params['correlation_matrix'])\n",
    "    losses = np.array([[0.0] * (N - 1)] * (nn_hyper_params['nb_epochs'] // nb_epoch_before_display))\n",
    "    \n",
    "    comp = 0\n",
    "    \n",
    "    #################################################################################################################\n",
    "    ####################################################                  TRAINING\n",
    "\n",
    "    for epoch in range(nn_hyper_params['nb_epochs']):\n",
    "        S_train = BS.Simulate(model_params['diffusion_times'][-1], N, nn_hyper_params['inputs_size'])\n",
    "        x = torch.from_numpy(S_train).float()\n",
    "        y = torch.unsqueeze(torch.from_numpy(my_payoff.value(S_train, model_params['interest_rate'], model_params['diffusion_times'])), dim=2).float()\n",
    "        payoff_tau = [y[i * nn_hyper_params['batch_size'] : min((i + 1) * nn_hyper_params['batch_size'], nn_hyper_params['inputs_size']) , N].to(device) for i in range(nb_batches)]\n",
    "        this_epoch_loss = np.full(N - 1, 0.0)\n",
    "        \n",
    "        # bakward induction\n",
    "        \n",
    "        for n in range(N - 1, 0, -1):\n",
    "            inputs = torch.cat((x[:,n], y[:,n]), 1)\n",
    "            \n",
    "            if n < N - 2 and re_use_nn_params:\n",
    "                f[n].parameters = f[n + 1].parameters\n",
    "            \n",
    "            for batch in range(nb_batches):\n",
    "                batch_range = [i for i in range(batch * nn_hyper_params['batch_size'], min((batch + 1) * nn_hyper_params['batch_size'], nn_hyper_params['inputs_size']))]\n",
    "                this_batch_inputs = inputs[batch_range, :].to(device)\n",
    "                optimizers[n - 1].zero_grad()\n",
    "                F_n = f[n - 1](this_batch_inputs)\n",
    "                f_n = (F_n >= 0.5).detach().float()\n",
    "                payoffs_batch = y[batch_range , n].to(device)\n",
    "                payoff_tau[batch] = payoffs_batch * f_n + payoff_tau[batch] * (1 - f_n)\n",
    "                z = torch.mean(torch.mul(torch.subtract(payoff_tau[batch], payoffs_batch), F_n))\n",
    "                this_epoch_loss[n - 1] += z.item() / float(nb_batches)\n",
    "                z.backward()\n",
    "                optimizers[n - 1].step()\n",
    "                \n",
    "        if(epoch % nb_epoch_before_display == 0):\n",
    "            losses[comp] = this_epoch_loss \n",
    "            print('epoch {}, losses : {}'.format(epoch, losses[comp]))\n",
    "            print('\\n')\n",
    "            comp += 1\n",
    "                \n",
    "    return f, losses"
   ]
  },
  {
   "cell_type": "markdown",
   "metadata": {},
   "source": [
    "## Test"
   ]
  },
  {
   "cell_type": "code",
   "execution_count": 71,
   "metadata": {},
   "outputs": [],
   "source": [
    "##### BS parameters\n",
    "nb_assets = 2\n",
    "expiry = 3\n",
    "nb_ex_dates = 9\n",
    "strike = 100\n",
    "my_payoff = Payoff(strike, 0)\n",
    "\n",
    "# NN parameters\n",
    "nb_hidden_layers = 3\n",
    "nn_units = [nb_assets + 1] + [nb_assets + 40 for i in range(nb_hidden_layers - 1)] + [1]\n",
    "nb_epoch_before_display = 100"
   ]
  },
  {
   "cell_type": "code",
   "execution_count": 72,
   "metadata": {
    "_kg_hide-output": true,
    "tags": []
   },
   "outputs": [
    {
     "name": "stdout",
     "output_type": "stream",
     "text": [
      "epoch 0, losses : [0.79989797 0.6440044  0.54361796 0.44865102 0.36296296 0.28914708\n",
      " 0.21355854 0.12937084]\n",
      "\n",
      "\n",
      "epoch 100, losses : [ 6.56650782e-01  4.64382559e-01  3.08521718e-01  2.14288652e-01\n",
      "  1.34374425e-01  9.88520235e-02  5.43644577e-02 -5.45443734e-04]\n",
      "\n",
      "\n",
      "epoch 200, losses : [0.11817421 0.08339562 0.08056502 0.04711644 0.02684899 0.03413507\n",
      " 0.01498811 0.00183711]\n",
      "\n",
      "\n",
      "epoch 300, losses : [0.05090082 0.03025005 0.03355752 0.00729988 0.0133896  0.00442184\n",
      " 0.01566438 0.00122915]\n",
      "\n",
      "\n",
      "epoch 400, losses : [ 0.01822976  0.00822224  0.0084055   0.01728267  0.00358075 -0.00458146\n",
      " -0.01450301 -0.00118253]\n",
      "\n",
      "\n",
      "epoch 500, losses : [ 0.02325164  0.01785731  0.01163417  0.00816861 -0.00477006  0.01563264\n",
      " -0.01734555 -0.00736392]\n",
      "\n",
      "\n",
      "epoch 600, losses : [-0.00981892  0.03604876  0.01698104 -0.0037787   0.00239931 -0.00565946\n",
      " -0.00750741  0.0047931 ]\n",
      "\n",
      "\n",
      "epoch 700, losses : [ 0.01096731 -0.00826875  0.00466156  0.00025154 -0.00347374 -0.00481658\n",
      "  0.01079756 -0.00403058]\n",
      "\n",
      "\n",
      "epoch 800, losses : [-2.27486482e-03  8.21906980e-03  7.53011741e-03 -8.73813406e-06\n",
      "  1.09743150e-02  7.51915760e-03  7.45334709e-03 -6.24015182e-03]\n",
      "\n",
      "\n",
      "epoch 900, losses : [ 0.00611851  0.01593205 -0.00435022  0.00140942 -0.00791195  0.00313502\n",
      "  0.00664282 -0.00272046]\n",
      "\n",
      "\n",
      "epoch 1000, losses : [-0.00624624  0.0064074  -0.01292936 -0.02475173  0.00108351 -0.00551934\n",
      "  0.00251492 -0.01374435]\n",
      "\n",
      "\n",
      "epoch 1100, losses : [-0.00253772  0.01126819 -0.02138419 -0.0187145  -0.01111621  0.00445619\n",
      " -0.00632604  0.00402173]\n",
      "\n",
      "\n",
      "epoch 1200, losses : [ 0.00090307  0.0013208  -0.00130109 -0.00999771 -0.0092003  -0.01259724\n",
      " -0.00233514 -0.00395744]\n",
      "\n",
      "\n",
      "epoch 1300, losses : [ 0.00898373 -0.0088463  -0.00439062 -0.00165686 -0.00704653 -0.01690715\n",
      " -0.00937876  0.00182831]\n",
      "\n",
      "\n",
      "epoch 1400, losses : [ 2.47756252e-05  7.80080166e-03 -3.07466416e-03  1.45435752e-02\n",
      "  3.55729926e-03  7.52063049e-03 -7.84790237e-03 -2.20268616e-03]\n",
      "\n",
      "\n",
      "epoch 1500, losses : [-0.00377139  0.0099699  -0.01066977 -0.0012707   0.01023556 -0.00273564\n",
      "  0.00532232 -0.00545669]\n",
      "\n",
      "\n",
      "epoch 1600, losses : [ 0.00931424 -0.00901154 -0.0053093   0.00305145  0.01577197  0.00375279\n",
      " -0.0004809   0.00504673]\n",
      "\n",
      "\n",
      "epoch 1700, losses : [-0.01460005 -0.01307887 -0.00502267 -0.00208144 -0.00703776 -0.00896593\n",
      "  0.00353056  0.00223729]\n",
      "\n",
      "\n",
      "epoch 1800, losses : [ 0.00424957  0.00649904 -0.00687896  0.00250394  0.00740517  0.0142949\n",
      " -0.00309702 -0.0041988 ]\n",
      "\n",
      "\n",
      "epoch 1900, losses : [ 0.00766247 -0.00766999  0.00943178  0.02094917  0.00029016 -0.00761409\n",
      " -0.0049743  -0.001327  ]\n",
      "\n",
      "\n",
      "epoch 2000, losses : [-0.00474802  0.00016637 -0.01037588  0.00566525 -0.01339329  0.01182735\n",
      " -0.00639618  0.00603007]\n",
      "\n",
      "\n",
      "epoch 2100, losses : [-0.00026669  0.0048111   0.0018343  -0.01058253  0.00967856  0.01039377\n",
      " -0.0019287   0.00420837]\n",
      "\n",
      "\n",
      "epoch 2200, losses : [-0.00280967 -0.00615306 -0.00018575 -0.01027704  0.01319872 -0.01836545\n",
      " -0.00958928 -0.00027551]\n",
      "\n",
      "\n",
      "epoch 2300, losses : [-3.06497607e-03  2.09579710e-04 -3.92284011e-03  2.28978251e-03\n",
      " -4.32142755e-03  6.52300660e-05 -3.83552862e-03 -9.35835997e-04]\n",
      "\n",
      "\n",
      "epoch 2400, losses : [-0.00977144 -0.00132888  0.01080889 -0.00061013 -0.00447072  0.01397989\n",
      "  0.00680971  0.00094926]\n",
      "\n",
      "\n",
      "epoch 2500, losses : [ 0.01074606  0.00715918 -0.00181735  0.00723761 -0.00173044 -0.00622811\n",
      "  0.0038984  -0.00167692]\n",
      "\n",
      "\n",
      "epoch 2600, losses : [ 0.01141072  0.00625766  0.00604709 -0.00343816  0.01525056 -0.00185596\n",
      " -0.00149912  0.00367372]\n",
      "\n",
      "\n",
      "epoch 2700, losses : [-0.00990854  0.00734834 -0.00681855  0.00413797 -0.00535451 -0.0023699\n",
      "  0.00176554  0.00131397]\n",
      "\n",
      "\n",
      "epoch 2800, losses : [ 0.0028245   0.00302693  0.00442656  0.00632209  0.00693797 -0.01570372\n",
      "  0.00305188 -0.0016352 ]\n",
      "\n",
      "\n",
      "epoch 2900, losses : [ 0.00169538  0.00684573  0.0015334   0.00227494 -0.00400828 -0.00444211\n",
      " -0.00323779 -0.00451606]\n",
      "\n",
      "\n"
     ]
    }
   ],
   "source": [
    "nn_hp = {'lr' : 0.001, 'nb_epochs' : 3000, 'batch_size' : 8192, 'inputs_size' : 8192*1}\n",
    "\n",
    "BS_params = {'initial_prices' : np.full(nb_assets, 100),\n",
    "             'interest_rate' : 0.05,\n",
    "            'dividends' : np.full(nb_assets, 0.1),\n",
    "            'volatilities' : np.full(nb_assets, 0.2),\n",
    "            'diffusion_times' : np.linspace(0, expiry, nb_ex_dates + 1),\n",
    "            'correlation_matrix' : np.eye(nb_assets)}\n",
    "\n",
    "my_models, losses = model_train(nn_units, nn_hp, BS_params, nb_epoch_before_display)"
   ]
  },
  {
   "cell_type": "code",
   "execution_count": 73,
   "metadata": {},
   "outputs": [
    {
     "data": {
      "text/plain": [
       "Text(0, 0.5, 'loss')"
      ]
     },
     "execution_count": 73,
     "metadata": {},
     "output_type": "execute_result"
    },
    {
     "data": {
      "image/png": "[encoded data removed]",
      "text/plain": [
       "<Figure size 1080x576 with 1 Axes>"
      ]
     },
     "metadata": {
      "needs_background": "light"
     },
     "output_type": "display_data"
    }
   ],
   "source": [
    "epoch = np.array([i * nb_epoch_before_display for i in range(nn_hp['nb_epochs'] // nb_epoch_before_display)])\n",
    "plt.figure(figsize=(15,8))\n",
    "for i in range(len(losses[0])):\n",
    "    plt.plot(epoch, losses[:,i])\n",
    "plt.xlabel(\"epoch\")\n",
    "plt.ylabel(\"loss\")"
   ]
  },
  {
   "cell_type": "markdown",
   "metadata": {},
   "source": [
    "# # Lower Bound"
   ]
  },
  {
   "cell_type": "code",
   "execution_count": 74,
   "metadata": {},
   "outputs": [],
   "source": [
    "K_L = 1096000\n",
    "BS_lower = MultiDimensionalBS(BS_params['initial_prices'], BS_params['interest_rate'], BS_params['dividends'], BS_params['volatilities'], BS_params['correlation_matrix'])\n",
    "S_lower = BS_lower.Simulate(expiry, nb_ex_dates, K_L)\n",
    "x = torch.from_numpy(S_lower).float()\n",
    "y = torch.unsqueeze(torch.from_numpy(my_payoff.value(S_lower, BS_params['interest_rate'], BS_params['diffusion_times'])), dim=2).float()"
   ]
  },
  {
   "cell_type": "code",
   "execution_count": 75,
   "metadata": {},
   "outputs": [
    {
     "name": "stdout",
     "output_type": "stream",
     "text": [
      "8 reward : tensor(11.8513, device='cuda:0')\n",
      "7 reward : tensor(12.3899, device='cuda:0')\n",
      "6 reward : tensor(12.8573, device='cuda:0')\n",
      "5 reward : tensor(13.2481, device='cuda:0')\n",
      "4 reward : tensor(13.5555, device='cuda:0')\n",
      "3 reward : tensor(13.7726, device='cuda:0')\n",
      "2 reward : tensor(13.8747, device='cuda:0')\n",
      "1 reward : tensor(13.8922, device='cuda:0')\n",
      "0 reward : tensor(13.8922, device='cuda:0')\n"
     ]
    }
   ],
   "source": [
    "# init\n",
    "tau = y[:,nb_ex_dates].new_full(y[:,nb_ex_dates].shape, nb_ex_dates).to(device)\n",
    "payoff_tau = y[:,nb_ex_dates].to(device)\n",
    "\n",
    "# backward induction\n",
    "for n in range(nb_ex_dates - 1, 0, -1):\n",
    "    inputs = torch.cat((x[:,n], y[:,n]), 1)\n",
    "    f_n = (my_models[n - 1](inputs.to(device)) >= 0.5).detach().float()\n",
    "    tau = n * f_n + tau * (1 - f_n)\n",
    "    payoffs = y[:, n].to(device)\n",
    "    payoff_tau = payoffs * f_n + payoff_tau * (1 - f_n)\n",
    "    print(n, 'reward :', payoff_tau.mean())\n",
    "    \n",
    "# initial date\n",
    "payoffs = y[:,0].to(device)\n",
    "f_n = (payoffs >= (payoff_tau).mean()).detach().float()\n",
    "tau *= (1 - f_n)\n",
    "payoff_tau = payoffs * f_n + payoff_tau * (1 - f_n)\n",
    "\n",
    "lower = payoff_tau\n",
    "lower_bound = lower.mean().item()\n",
    "print(0, 'reward :', payoff_tau.mean())"
   ]
  },
  {
   "cell_type": "code",
   "execution_count": 76,
   "metadata": {},
   "outputs": [
    {
     "name": "stdout",
     "output_type": "stream",
     "text": [
      "tau : 6.967 lower bound : 13.892\n"
     ]
    }
   ],
   "source": [
    "print('tau :', round(tau.mean().item(), 3), 'lower bound :', round(lower_bound, 3))"
   ]
  },
  {
   "cell_type": "markdown",
   "metadata": {
    "execution": {
     "iopub.execute_input": "2021-12-07T14:02:52.157472Z",
     "iopub.status.busy": "2021-12-07T14:02:52.157099Z",
     "iopub.status.idle": "2021-12-07T14:02:52.162066Z",
     "shell.execute_reply": "2021-12-07T14:02:52.1612Z",
     "shell.execute_reply.started": "2021-12-07T14:02:52.157439Z"
    }
   },
   "source": [
    "# # Upper Bound"
   ]
  },
  {
   "cell_type": "code",
   "execution_count": null,
   "metadata": {},
   "outputs": [],
   "source": [
    "J = 16384\n",
    "K_U = 1024\n",
    "BS_upper = MultiDimensionalBS(initial_prices, interest_rate, dividends, volatilities, correlation_matrix)"
   ]
  },
  {
   "cell_type": "code",
   "execution_count": null,
   "metadata": {},
   "outputs": [],
   "source": [
    "S_upper = BS_upper.Simulate(expiry, nb_ex_dates, K_U)\n",
    "x = torch.from_numpy(S_upper).float()\n",
    "y = torch.unsqueeze(torch.from_numpy(my_payoff.value(S_upper, interest_rate, diffusion_times)), dim=2).float()"
   ]
  },
  {
   "cell_type": "code",
   "execution_count": null,
   "metadata": {},
   "outputs": [],
   "source": [
    "S_cond = BS_upper.Simulate_Next_State(S_upper[:, nb_ex_dates - 1, :], diffusion_times[nb_ex_dates - 1], diffusion_times[nb_ex_dates:], J)\n",
    "y_cond = [my_payoff.value(S_cond[k], interest_rate, diffusion_times[nb_ex_dates:]) for k in range(K_U)]\n",
    "C_n_1 = torch.from_numpy(np.mean(np.squeeze([y_cond[k] for k in range(K_U)], axis = 2), axis = 1)).to(device)\n",
    "mg_increments = torch.from_numpy(np.array([[0.0] * K_U] * (nb_ex_dates + 1)))\n",
    "mg_increments[nb_ex_dates] = y[:, nb_ex_dates, 0].to(device) - C_n_1\n",
    "f_n = [[torch.from_numpy(np.array([[1.0] * 1] * J)).to(device)] * 1] * K_U\n",
    "\n",
    "for n in range(nb_ex_dates - 1, 0, -1):\n",
    "    S_cond = BS_upper.Simulate_Next_State(S_upper[:, n - 1, :], diffusion_times[n - 1], diffusion_times[n:], J)\n",
    "    y_cond = [torch.unsqueeze(torch.from_numpy(my_payoff.value(S_cond[k], interest_rate, diffusion_times[n:])), dim = 2).float() for k in range(K_U)]\n",
    "    S_cond = torch.from_numpy(S_cond).float()\n",
    "    \n",
    "    inputs = [[torch.cat((S_cond[k][:, m], y_cond[k][:, m]), 1) for m in range(0, nb_ex_dates - n)] for k in range(K_U)]\n",
    "    payoff_tau = [y_cond[k][:, nb_ex_dates - n].to(device) for k in range(K_U)]\n",
    "        \n",
    "    if (not (n == nb_ex_dates - 1)):\n",
    "        f_n = [[(my_models[n + m - 1](inputs[k][m].to(device)) >= 0.5).detach().float() for m in range(0, N - n)] for k in range(K_U)]\n",
    "        \n",
    "        for m in range(nb_ex_dates - n - 1, -1, -1):\n",
    "            payoff_tau = [y_cond[k][:, m, :].to(device) * f_n[k][m] + (1 - f_n[k][m]) * payoff_tau[k] for k in range(K_U)]\n",
    "    \n",
    "    C_n = C_n_1\n",
    "    C_n_1 = [torch.mean(torch.squeeze(payoff_tau[k], dim = 1)).item() for k in range(K_U)]\n",
    "    C_n_1 = torch.from_numpy(np.array(C_n_1)).to(device)\n",
    "        \n",
    "    inputs = torch.cat((x[:,n], y[:,n]), 1)\n",
    "    f_n = (my_models[n - 1](inputs.to(device)) >= 0.5).detach().float()\n",
    "    mg_increments[n] = (y[:, n, 0].to(device) - C_n) * torch.squeeze(f_n, dim = 1) + C_n - C_n_1\n",
    "    \n",
    "mg_doob = torch.cumsum(torch.transpose(mg_increments, 0, 1), dim = 1)\n",
    "\n",
    "upper = (y[:,:,0].to(device) - mg_doob.to(device)).max(dim = 1).values\n",
    "upper_bound = upper.mean().item()"
   ]
  },
  {
   "cell_type": "code",
   "execution_count": null,
   "metadata": {},
   "outputs": [],
   "source": [
    "print('upper bound :', round(upper_bound, 3))"
   ]
  },
  {
   "cell_type": "code",
   "execution_count": null,
   "metadata": {},
   "outputs": [],
   "source": [
    "IC_inf = round(lower_bound - 1.96 * torch.std(lower).item() / sqrt(K_L), 3)\n",
    "IC_sup = round(upper_bound + 1.96 * torch.std(upper).item() / sqrt(K_U), 3)\n",
    "\n",
    "print('- lower bound :', round(lower_bound, 3))\n",
    "print('- upper bound :', round(upper_bound, 3))\n",
    "print('- point estimator :', round((lower_bound + upper_bound) / 2.0, 3))\n",
    "print('')\n",
    "print('IC 90% :', (IC_inf, IC_sup))"
   ]
  },
  {
   "cell_type": "code",
   "execution_count": null,
   "metadata": {},
   "outputs": [],
   "source": [
    "# to do : qq tests et graphes"
   ]
  },
  {
   "cell_type": "markdown",
   "metadata": {},
   "source": [
    "##### "
   ]
  }
 ],
 "metadata": {
  "kernelspec": {
   "display_name": "Python 3 (ipykernel)",
   "language": "python",
   "name": "python3"
  },
  "language_info": {
   "codemirror_mode": {
    "name": "ipython",
    "version": 3
   },
   "file_extension": ".py",
   "mimetype": "text/x-python",
   "name": "python",
   "nbconvert_exporter": "python",
   "pygments_lexer": "ipython3",
   "version": "3.8.6"
  }
 },
 "nbformat": 4,
 "nbformat_minor": 4
}
