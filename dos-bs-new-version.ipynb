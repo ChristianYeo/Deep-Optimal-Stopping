{
 "cells": [
  {
   "cell_type": "code",
   "execution_count": 1,
   "metadata": {
    "_cell_guid": "b1076dfc-b9ad-4769-8c92-a6c4dae69d19",
    "_uuid": "8f2839f25d086af736a60e9eeb907d3b93b6e0e5",
    "tags": []
   },
   "outputs": [],
   "source": [
    "import numpy as np\n",
    "import pandas as pd\n",
    "import matplotlib.pyplot as plt\n",
    "import torch\n",
    "import torch.nn as nn\n",
    "from math import ceil, sqrt\n",
    "import copy\n",
    "\n",
    "import os\n",
    "for dirname, _, filenames in os.walk('/kaggle/input'):\n",
    "    for filename in filenames:\n",
    "        print(os.path.join(dirname, filename))"
   ]
  },
  {
   "cell_type": "code",
   "execution_count": 2,
   "metadata": {
    "tags": []
   },
   "outputs": [],
   "source": [
    "class MultiDimensionalBS:\n",
    "    def __init__(self, initial_prices, interest_rate, dividends, volatilities, correlation_matrix):\n",
    "        self.initial_prices = initial_prices\n",
    "        self.interest_rate = interest_rate\n",
    "        self.dividends = dividends\n",
    "        self.volatilities = volatilities\n",
    "        self.correlation_matrix = correlation_matrix\n",
    "        self.dimension = len(initial_prices)\n",
    "        self.var_cov = np.linalg.cholesky(np.matmul(np.diag(self.volatilities), np.matmul(self.correlation_matrix, np.diag(self.volatilities))))\n",
    "    \n",
    "    def Simulate(self, expiry, nb_time_discr, number_paths):\n",
    "                \n",
    "        diffusion_list = np.linspace(0, expiry, nb_time_discr + 1)\n",
    "        last_index = len(diffusion_list) - 1\n",
    "        delta_time = expiry / last_index\n",
    "        dW = np.sqrt(delta_time) * np.random.randn(number_paths, last_index, self.dimension)\n",
    "        dW = np.append(np.zeros((number_paths, 1, self.dimension)), dW, axis=1)\n",
    "        cst = self.interest_rate - self.dividends - 0.5 * (self.volatilities ** 2)\n",
    "        W = np.cumsum(np.matmul(dW, self.var_cov), axis = 1)\n",
    "        S = self.initial_prices * np.exp(cst * diffusion_list[np.newaxis, :, np.newaxis] + W)\n",
    "                    \n",
    "        return S\n",
    "    \n",
    "    def Simulate_Next_State(self, current_price, current_time, diffusion_times, nb_paths):\n",
    "        delta_time = diffusion_times[0] - current_time\n",
    "        dW = np.sqrt(delta_time) * np.random.randn(nb_paths, len(diffusion_times), self.dimension)\n",
    "        cst = self.interest_rate - self.dividends - 0.5 * (self.volatilities ** 2)\n",
    "        W = np.cumsum(np.matmul(dW, self.var_cov), axis = 1)\n",
    "        S = current_price[:, np.newaxis, np.newaxis, :] * np.exp(cst * (diffusion_times[np.newaxis, :, np.newaxis] - current_time) + W)\n",
    "                    \n",
    "        return S"
   ]
  },
  {
   "cell_type": "code",
   "execution_count": 3,
   "metadata": {
    "tags": []
   },
   "outputs": [],
   "source": [
    "class Payoff:\n",
    "    def __init__(self, strike, option_type):\n",
    "        self.strike = strike\n",
    "        self.option_type = option_type\n",
    "        \n",
    "    def value(self, asset_prices, interest_rate, dates, k=0):\n",
    "        if (self.option_type == 0):\n",
    "            return np.exp(-interest_rate * dates[np.newaxis, k:]) * np.maximum(asset_prices.max(axis = 2) - self.strike, 0)\n",
    "        \n",
    "        elif (self.option_type == 1):\n",
    "            return np.exp(-interest_rate * dates[np.newaxis, k:]) * np.maximum(self.strike - asset_prices.min(axis = 2), 0)\n",
    "        \n",
    "        elif (self.option_type == 2):\n",
    "            d = len(asset_prices[0][0])\n",
    "            np.exp(-interest_rate * dates[np.newaxis, k:]) * np.maximum(asset_prices.prod(axis = 2)**(1/d) - self.strike, 0)"
   ]
  },
  {
   "cell_type": "code",
   "execution_count": 4,
   "metadata": {
    "tags": []
   },
   "outputs": [],
   "source": [
    "##### BS parameters\n",
    "\n",
    "nb_assets = 2\n",
    "interest_rate = 0.05\n",
    "T = 3\n",
    "N = 9\n",
    "strike = 100\n",
    "my_payoff = Payoff(strike, 0)\n",
    "\n",
    "initial_prices = np.full(nb_assets, 100)\n",
    "dividends = np.full(nb_assets, 0.1)\n",
    "volatilities = np.full(nb_assets, 0.2)\n",
    "diffusion_times = np.linspace(0, T, N + 1)\n",
    "correlation_matrix = np.eye(nb_assets)"
   ]
  },
  {
   "cell_type": "markdown",
   "metadata": {},
   "source": [
    "# # Train Neural Net"
   ]
  },
  {
   "cell_type": "code",
   "execution_count": 5,
   "metadata": {
    "tags": []
   },
   "outputs": [
    {
     "name": "stdout",
     "output_type": "stream",
     "text": [
      "cuda:0\n"
     ]
    }
   ],
   "source": [
    "device = torch.device(\"cuda:0\" if torch.cuda.is_available() else \"cpu\")\n",
    "print(device)"
   ]
  },
  {
   "cell_type": "code",
   "execution_count": 6,
   "metadata": {
    "tags": []
   },
   "outputs": [],
   "source": [
    "def model_train(nb_epochs, inputs_size, batch_size, nb_batches, learning_rate, N):\n",
    "\n",
    "    \n",
    "    nn_model = nn.Sequential(nn.Linear(nb_assets + 1, q1), nn.ReLU(), nn.BatchNorm1d(q1), nn.Linear(q1, q2), \n",
    "                                        nn.ReLU(), nn.BatchNorm1d(q1), torch.nn.Linear(q2, 1), torch.nn.Sigmoid())\n",
    "    \n",
    "    f = [copy.deepcopy(nn_model).to(device) for i in range(N - 1)]\n",
    "    optimizers = [torch.optim.Adam(f[i].parameters(), lr = learning_rate) for i in range(N - 1)]\n",
    "    BS = MultiDimensionalBS(initial_prices, interest_rate, dividends, volatilities, correlation_matrix)\n",
    "\n",
    "    for epoch in range(nb_epochs):\n",
    "        \n",
    "        S_train = BS.Simulate(T, N, inputs_size)\n",
    "        x = torch.from_numpy(S_train).float().to(device)\n",
    "        y = torch.unsqueeze(torch.from_numpy(my_payoff.value(S_train, interest_rate, diffusion_times)), dim=2).float().to(device)\n",
    "        \n",
    "        # condition finale\n",
    "\n",
    "        payoff_tau = [y[i * batch_size : min((i + 1) * batch_size, inputs_size) , N] for i in range(nb_batches)]\n",
    "        \n",
    "        # bakward induction\n",
    "        \n",
    "        for n in range(N - 1, 0, -1):\n",
    "            \n",
    "            inputs = torch.cat((x[:,n], y[:,n]), 1)\n",
    "            payoffs = [y[i * batch_size : min((i + 1) * batch_size, inputs_size) , n] for i in range(nb_batches)]\n",
    "            \n",
    "            for batch in range(nb_batches):\n",
    "                this_batch = inputs[batch * batch_size : min((batch + 1) * batch_size, inputs_size), :].to(device)\n",
    "                optimizers[n - 1].zero_grad()\n",
    "                F_n = f[n - 1](this_batch)\n",
    "                f_n = (F_n >= 0.5).detach().float()\n",
    "                payoffs_batch = y[batch * batch_size : min((batch + 1) * batch_size, inputs_size) , n]\n",
    "                payoff_tau[batch] = payoffs_batch * f_n + payoff_tau[batch] * (1 - f_n)\n",
    "                z = torch.mean(torch.mul(torch.subtract(payoff_tau[batch], payoffs_batch), F_n))\n",
    "                z.backward()\n",
    "                optimizers[n - 1].step()                            \n",
    "    return {'model' : f}"
   ]
  },
  {
   "cell_type": "code",
   "execution_count": 7,
   "metadata": {
    "tags": []
   },
   "outputs": [],
   "source": [
    "# NN parameters\n",
    "\n",
    "nb_epochs = 200 + nb_assets\n",
    "batch_size = 512\n",
    "inputs_size = 8192\n",
    "q1 = q2 = 40 + nb_assets\n",
    "learning_rate = 0.001\n",
    "nb_batches = ceil(inputs_size / batch_size)"
   ]
  },
  {
   "cell_type": "code",
   "execution_count": null,
   "metadata": {
    "_kg_hide-output": true,
    "tags": []
   },
   "outputs": [],
   "source": [
    "training = model_train(nb_epochs, inputs_size, batch_size, nb_batches, learning_rate, N)\n",
    "#training['rewards']"
   ]
  },
  {
   "cell_type": "markdown",
   "metadata": {},
   "source": [
    "# # Lower Bound"
   ]
  },
  {
   "cell_type": "code",
   "execution_count": 10,
   "metadata": {},
   "outputs": [],
   "source": [
    "K_L = 4096000\n",
    "K_L = 2000000\n",
    "BS_lower = MultiDimensionalBS(initial_prices, interest_rate, dividends, volatilities, correlation_matrix)\n",
    "S_lower = BS_lower.Simulate(T, N, K_L)\n",
    "\n",
    "x = torch.from_numpy(S_lower).float()\n",
    "y = torch.unsqueeze(torch.from_numpy(my_payoff.value(S_lower, interest_rate, diffusion_times)), dim=2).float()"
   ]
  },
  {
   "cell_type": "code",
   "execution_count": 11,
   "metadata": {},
   "outputs": [
    {
     "name": "stdout",
     "output_type": "stream",
     "text": [
      "8 reward : tensor(11.8431, device='cuda:0')\n",
      "7 reward : tensor(12.3798, device='cuda:0')\n",
      "6 reward : tensor(12.8413, device='cuda:0')\n",
      "5 reward : tensor(13.2336, device='cuda:0')\n",
      "4 reward : tensor(13.5401, device='cuda:0')\n",
      "3 reward : tensor(13.7519, device='cuda:0')\n",
      "2 reward : tensor(13.8619, device='cuda:0')\n",
      "1 reward : tensor(13.8788, device='cuda:0')\n",
      "0 reward : tensor(13.8788, device='cuda:0')\n"
     ]
    }
   ],
   "source": [
    "# initialization\n",
    "\n",
    "tau = y[:,N].new_full(y[:,N].shape, N).to(device)\n",
    "payoff_tau = y[:,N].to(device)\n",
    "\n",
    "# backward induction\n",
    "\n",
    "for n in range(N - 1, 0, -1):\n",
    "    inputs = torch.cat((x[:,n], y[:,n]), 1)\n",
    "    f_n = (training['model'][n - 1](inputs.to(device)) >= 0.5).detach().float()\n",
    "    tau = n * f_n + tau * (1 - f_n)\n",
    "    payoffs = y[:, n].to(device)\n",
    "    payoff_tau = payoffs * f_n + payoff_tau * (1 - f_n)\n",
    "    \n",
    "    print(n, 'reward :', payoff_tau.mean())\n",
    "    \n",
    "# initial date\n",
    "\n",
    "payoffs = y[:,0].to(device)\n",
    "f_n = (payoffs >= (payoff_tau).mean()).detach().float()\n",
    "tau *= (1 - f_n)\n",
    "payoff_tau = payoffs * f_n + payoff_tau * (1 - f_n)\n",
    "\n",
    "lower = payoff_tau\n",
    "lower_bound = lower.mean().item()\n",
    "\n",
    "print(0, 'reward :', payoff_tau.mean())"
   ]
  },
  {
   "cell_type": "code",
   "execution_count": 11,
   "metadata": {},
   "outputs": [
    {
     "name": "stdout",
     "output_type": "stream",
     "text": [
      "tau : 7.137 lower bound : 13.871\n"
     ]
    }
   ],
   "source": [
    "print('tau :', round(tau.mean().item(), 3), 'lower bound :', round(lower_bound, 3))"
   ]
  },
  {
   "cell_type": "markdown",
   "metadata": {
    "execution": {
     "iopub.execute_input": "2021-12-07T14:02:52.157472Z",
     "iopub.status.busy": "2021-12-07T14:02:52.157099Z",
     "iopub.status.idle": "2021-12-07T14:02:52.162066Z",
     "shell.execute_reply": "2021-12-07T14:02:52.1612Z",
     "shell.execute_reply.started": "2021-12-07T14:02:52.157439Z"
    }
   },
   "source": [
    "# # Upper Bound"
   ]
  },
  {
   "cell_type": "code",
   "execution_count": 12,
   "metadata": {},
   "outputs": [],
   "source": [
    "J = 16384\n",
    "K_U = 1024\n",
    "\n",
    "BS_upper = MultiDimensionalBS(initial_prices, interest_rate, dividends, volatilities, correlation_matrix)"
   ]
  },
  {
   "cell_type": "code",
   "execution_count": 13,
   "metadata": {},
   "outputs": [],
   "source": [
    "S_upper = BS_upper.Simulate(T, N, K_U)\n",
    "x = torch.from_numpy(S_upper).float()\n",
    "y = torch.unsqueeze(torch.from_numpy(my_payoff.value(S_upper, interest_rate, diffusion_times)), dim=2).float()"
   ]
  },
  {
   "cell_type": "code",
   "execution_count": null,
   "metadata": {},
   "outputs": [],
   "source": [
    "S_cond = BS_upper.Simulate_Next_State(S_upper[:, N - 1, :], diffusion_times[N - 1], diffusion_times[N:], J)\n",
    "y_cond = [my_payoff.value(S_cond[k], interest_rate, diffusion_times[N:]) for k in range(K_U)]\n",
    "C_n_1 = torch.from_numpy(np.mean(np.squeeze([y_cond[k] for k in range(K_U)], axis = 2), axis = 1)).to(device)\n",
    "mg_increments = torch.from_numpy(np.array([[0.0] * K_U] * (N + 1)))\n",
    "mg_increments[N] = y[:, N, 0].to(device) - C_n_1\n",
    "f_n = [[torch.from_numpy(np.array([[1.0] * 1] * J)).to(device)] * 1] * K_U\n",
    "\n",
    "for n in range(N - 1, 0, -1):\n",
    "    S_cond = BS_upper.Simulate_Next_State(S_upper[:, n - 1, :], diffusion_times[n - 1], diffusion_times[n:], J)\n",
    "    y_cond = [torch.unsqueeze(torch.from_numpy(my_payoff.value(S_cond[k], interest_rate, diffusion_times[n:])), dim = 2).float() for k in range(K_U)]\n",
    "    S_cond = torch.from_numpy(S_cond).float()\n",
    "    \n",
    "    inputs = [[torch.cat((S_cond[k][:, m], y_cond[k][:, m]), 1) for m in range(0, N - n)] for k in range(K_U)]\n",
    "    payoff_tau = [y_cond[k][:, N - n].to(device) for k in range(K_U)]\n",
    "        \n",
    "    if (not (n == N - 1)):\n",
    "        f_n = [[(training['model'][n + m - 1](inputs[k][m].to(device)) >= 0.5).detach().float() for m in range(0, N - n)] for k in range(K_U)]\n",
    "        \n",
    "        for m in range(N - n - 1, -1, -1):\n",
    "            payoff_tau = [y_cond[k][:, m, :].to(device) * f_n[k][m] + (1 - f_n[k][m]) * payoff_tau[k] for k in range(K_U)]\n",
    "    \n",
    "    C_n = C_n_1\n",
    "    C_n_1 = [torch.mean(torch.squeeze(payoff_tau[k], dim = 1)).item() for k in range(K_U)]\n",
    "    C_n_1 = torch.from_numpy(np.array(C_n_1)).to(device)\n",
    "        \n",
    "    inputs = torch.cat((x[:,n], y[:,n]), 1)\n",
    "    f_n = (training['model'][n - 1](inputs.to(device)) >= 0.5).detach().float()\n",
    "    mg_increments[n] = (y[:, n, 0].to(device) - C_n) * torch.squeeze(f_n, dim = 1) + C_n - C_n_1\n",
    "    \n",
    "mg_doob = torch.cumsum(torch.transpose(mg_increments, 0, 1), dim = 1)\n",
    "\n",
    "upper = (y[:,:,0].to(device) - mg_doob.to(device)).max(dim = 1).values\n",
    "upper_bound = upper.mean().item()"
   ]
  },
  {
   "cell_type": "code",
   "execution_count": null,
   "metadata": {},
   "outputs": [],
   "source": [
    "print('upper bound :', round(upper_bound, 3))"
   ]
  },
  {
   "cell_type": "code",
   "execution_count": null,
   "metadata": {},
   "outputs": [],
   "source": [
    "IC_inf = round(lower_bound - 1.96 * torch.std(lower).item() / sqrt(K_L), 3)\n",
    "IC_sup = round(upper_bound + 1.96 * torch.std(upper).item() / sqrt(K_U), 3)\n",
    "\n",
    "print('- lower bound :', round(lower_bound, 3))\n",
    "print('- upper bound :', round(upper_bound, 3))\n",
    "print('- point estimator :', round((lower_bound + upper_bound) / 2.0, 3))\n",
    "print('')\n",
    "print('IC 90% :', (IC_inf, IC_sup))"
   ]
  },
  {
   "cell_type": "code",
   "execution_count": null,
   "metadata": {},
   "outputs": [],
   "source": [
    "# to do : qq tests et graphes"
   ]
  },
  {
   "cell_type": "markdown",
   "metadata": {},
   "source": [
    "##### "
   ]
  }
 ],
 "metadata": {
  "kernelspec": {
   "display_name": "Python 3 (ipykernel)",
   "language": "python",
   "name": "python3"
  },
  "language_info": {
   "codemirror_mode": {
    "name": "ipython",
    "version": 3
   },
   "file_extension": ".py",
   "mimetype": "text/x-python",
   "name": "python",
   "nbconvert_exporter": "python",
   "pygments_lexer": "ipython3",
   "version": "3.8.6"
  }
 },
 "nbformat": 4,
 "nbformat_minor": 4
}
